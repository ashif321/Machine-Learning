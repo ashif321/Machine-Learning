{
 "cells": [
  {
   "cell_type": "code",
   "execution_count": 1,
   "id": "covered-filter",
   "metadata": {},
   "outputs": [],
   "source": [
    "import numpy as np"
   ]
  },
  {
   "cell_type": "code",
   "execution_count": 2,
   "id": "periodic-concert",
   "metadata": {},
   "outputs": [],
   "source": [
    "str1 = 'Python is Easy'\n",
    "str2 = ' To Learn'\n",
    "str3 = 'ASHIF AHMED'"
   ]
  },
  {
   "cell_type": "code",
   "execution_count": 3,
   "id": "mobile-packet",
   "metadata": {},
   "outputs": [
    {
     "data": {
      "text/plain": [
       "array('Python is Easy To Learn', dtype='<U23')"
      ]
     },
     "execution_count": 3,
     "metadata": {},
     "output_type": "execute_result"
    }
   ],
   "source": [
    "# add function\n",
    "np.char.add(str1, str2)"
   ]
  },
  {
   "cell_type": "code",
   "execution_count": 4,
   "id": "heated-albert",
   "metadata": {},
   "outputs": [
    {
     "data": {
      "text/plain": [
       "array('ashif ahmed', dtype='<U11')"
      ]
     },
     "execution_count": 4,
     "metadata": {},
     "output_type": "execute_result"
    }
   ],
   "source": [
    "# lower function\n",
    "np.char.lower(str3)"
   ]
  },
  {
   "cell_type": "code",
   "execution_count": 5,
   "id": "atlantic-praise",
   "metadata": {},
   "outputs": [
    {
     "data": {
      "text/plain": [
       "array('PYTHON IS EASY', dtype='<U14')"
      ]
     },
     "execution_count": 5,
     "metadata": {},
     "output_type": "execute_result"
    }
   ],
   "source": [
    "# upper function\n",
    "np.char.upper(str1)"
   ]
  },
  {
   "cell_type": "code",
   "execution_count": 6,
   "id": "worldwide-restriction",
   "metadata": {},
   "outputs": [
    {
     "data": {
      "text/plain": [
       "array('                                  ASHIF AHMED                                   ',\n",
       "      dtype='<U80')"
      ]
     },
     "execution_count": 6,
     "metadata": {},
     "output_type": "execute_result"
    }
   ],
   "source": [
    "# to bring in the center\n",
    "np.char.center(str3, 80)"
   ]
  },
  {
   "cell_type": "code",
   "execution_count": 7,
   "id": "dated-montreal",
   "metadata": {},
   "outputs": [
    {
     "data": {
      "text/plain": [
       "array('**********************************ASHIF AHMED***********************************',\n",
       "      dtype='<U80')"
      ]
     },
     "execution_count": 7,
     "metadata": {},
     "output_type": "execute_result"
    }
   ],
   "source": [
    "np.char.center(str3, 80, fillchar = '*')"
   ]
  },
  {
   "cell_type": "code",
   "execution_count": 8,
   "id": "unlikely-greenhouse",
   "metadata": {},
   "outputs": [
    {
     "data": {
      "text/plain": [
       "array(list(['Python', 'is', 'Easy']), dtype=object)"
      ]
     },
     "execution_count": 8,
     "metadata": {},
     "output_type": "execute_result"
    }
   ],
   "source": [
    "# split function\n",
    "np.char.split(str1)"
   ]
  },
  {
   "cell_type": "code",
   "execution_count": 9,
   "id": "organizational-inspector",
   "metadata": {},
   "outputs": [
    {
     "data": {
      "text/plain": [
       "array(list(['Hi', 'We are Learning Python.', 'It is very easy to learn']),\n",
       "      dtype=object)"
      ]
     },
     "execution_count": 9,
     "metadata": {},
     "output_type": "execute_result"
    }
   ],
   "source": [
    "# splitlines function\n",
    "np.char.splitlines('Hi\\nWe are Learning Python.\\nIt is very easy to learn')"
   ]
  },
  {
   "cell_type": "code",
   "execution_count": 10,
   "id": "fresh-influence",
   "metadata": {},
   "outputs": [
    {
     "data": {
      "text/plain": [
       "array(['y/m/d', 'm:d:y'], dtype='<U5')"
      ]
     },
     "execution_count": 10,
     "metadata": {},
     "output_type": "execute_result"
    }
   ],
   "source": [
    "# join function\n",
    "x = 'ymd'\n",
    "y = 'mdy'\n",
    "np.char.join(['/', ':'], [x,y])"
   ]
  },
  {
   "cell_type": "code",
   "execution_count": 11,
   "id": "adjusted-cardiff",
   "metadata": {},
   "outputs": [
    {
     "data": {
      "text/plain": [
       "array('NumPy is Easy', dtype='<U13')"
      ]
     },
     "execution_count": 11,
     "metadata": {},
     "output_type": "execute_result"
    }
   ],
   "source": [
    "# replace function\n",
    "np.char.replace(str1, 'Python', 'NumPy')"
   ]
  },
  {
   "cell_type": "code",
   "execution_count": 12,
   "id": "defensive-award",
   "metadata": {},
   "outputs": [
    {
     "data": {
      "text/plain": [
       "array(False)"
      ]
     },
     "execution_count": 12,
     "metadata": {},
     "output_type": "execute_result"
    }
   ],
   "source": [
    "# equal function\n",
    "x = 'ymd'\n",
    "y = 'mdy'\n",
    "np.char.equal(x,y)"
   ]
  },
  {
   "cell_type": "code",
   "execution_count": 13,
   "id": "piano-bristol",
   "metadata": {},
   "outputs": [
    {
     "data": {
      "text/plain": [
       "array(True)"
      ]
     },
     "execution_count": 13,
     "metadata": {},
     "output_type": "execute_result"
    }
   ],
   "source": [
    "# equal function\n",
    "x = 'python'\n",
    "y = 'python'\n",
    "np.char.equal(x,y)"
   ]
  },
  {
   "cell_type": "code",
   "execution_count": 14,
   "id": "absent-semiconductor",
   "metadata": {},
   "outputs": [
    {
     "data": {
      "text/plain": [
       "array(1)"
      ]
     },
     "execution_count": 14,
     "metadata": {},
     "output_type": "execute_result"
    }
   ],
   "source": [
    "# count function\n",
    "np.char.count(str1, 'P')"
   ]
  },
  {
   "cell_type": "code",
   "execution_count": 15,
   "id": "described-health",
   "metadata": {},
   "outputs": [
    {
     "data": {
      "text/plain": [
       "array(2)"
      ]
     },
     "execution_count": 15,
     "metadata": {},
     "output_type": "execute_result"
    }
   ],
   "source": [
    "# find function\n",
    "np.char.find(str1, 't')"
   ]
  }
 ],
 "metadata": {
  "kernelspec": {
   "display_name": "Python 3 (ipykernel)",
   "language": "python",
   "name": "python3"
  },
  "language_info": {
   "codemirror_mode": {
    "name": "ipython",
    "version": 3
   },
   "file_extension": ".py",
   "mimetype": "text/x-python",
   "name": "python",
   "nbconvert_exporter": "python",
   "pygments_lexer": "ipython3",
   "version": "3.9.2"
  }
 },
 "nbformat": 4,
 "nbformat_minor": 5
}
