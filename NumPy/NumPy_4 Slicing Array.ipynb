{
 "cells": [
  {
   "cell_type": "markdown",
   "id": "every-bandwidth",
   "metadata": {},
   "source": [
    "# NumPy Array Slicing (:)"
   ]
  },
  {
   "cell_type": "code",
   "execution_count": 1,
   "id": "induced-fancy",
   "metadata": {},
   "outputs": [],
   "source": [
    "from numpy import *"
   ]
  },
  {
   "cell_type": "code",
   "execution_count": 2,
   "id": "recognized-compromise",
   "metadata": {},
   "outputs": [
    {
     "name": "stdout",
     "output_type": "stream",
     "text": [
      "[[10 20 30]\n",
      " [40 50 60]\n",
      " [70 80 90]]\n",
      "[10 20 30]\n"
     ]
    }
   ],
   "source": [
    "n = array([[10, 20 ,30], [40, 50, 60], [70, 80, 90]])\n",
    "print(n)\n",
    "print(n[0])"
   ]
  },
  {
   "cell_type": "code",
   "execution_count": 3,
   "id": "controlling-monster",
   "metadata": {},
   "outputs": [
    {
     "name": "stdout",
     "output_type": "stream",
     "text": [
      "[40 50 60]\n"
     ]
    }
   ],
   "source": [
    "print(n[1])"
   ]
  },
  {
   "cell_type": "code",
   "execution_count": 4,
   "id": "innovative-formula",
   "metadata": {},
   "outputs": [
    {
     "name": "stdout",
     "output_type": "stream",
     "text": [
      "[70 80 90]\n"
     ]
    }
   ],
   "source": [
    "print(n[2])"
   ]
  },
  {
   "cell_type": "markdown",
   "id": "decimal-engineering",
   "metadata": {},
   "source": [
    "# Slicing (:)"
   ]
  },
  {
   "cell_type": "code",
   "execution_count": 5,
   "id": "incorporate-lighting",
   "metadata": {},
   "outputs": [
    {
     "name": "stdout",
     "output_type": "stream",
     "text": [
      "slicing 0th row all columns\n",
      "[10 20 30]\n"
     ]
    }
   ],
   "source": [
    "print(\"slicing 0th row all columns\")\n",
    "print(n[0, :])"
   ]
  },
  {
   "cell_type": "code",
   "execution_count": 6,
   "id": "sapphire-discharge",
   "metadata": {},
   "outputs": [
    {
     "name": "stdout",
     "output_type": "stream",
     "text": [
      "slicing 1st row all columns\n",
      "[40 50 60]\n"
     ]
    }
   ],
   "source": [
    "print(\"slicing 1st row all columns\")\n",
    "print(n[1, :])"
   ]
  },
  {
   "cell_type": "code",
   "execution_count": 7,
   "id": "interim-pavilion",
   "metadata": {},
   "outputs": [
    {
     "name": "stdout",
     "output_type": "stream",
     "text": [
      "slicing 2nd row all columns\n",
      "[70 80 90]\n"
     ]
    }
   ],
   "source": [
    "print(\"slicing 2nd row all columns\")\n",
    "print(n[2, :])"
   ]
  },
  {
   "cell_type": "code",
   "execution_count": 8,
   "id": "alternate-phoenix",
   "metadata": {},
   "outputs": [
    {
     "name": "stdout",
     "output_type": "stream",
     "text": [
      "slicing 0th column all rows\n",
      "[10 40 70]\n"
     ]
    }
   ],
   "source": [
    "print(\"slicing 0th column all rows\")\n",
    "print(n[:, 0])"
   ]
  },
  {
   "cell_type": "code",
   "execution_count": 9,
   "id": "ethical-howard",
   "metadata": {},
   "outputs": [
    {
     "name": "stdout",
     "output_type": "stream",
     "text": [
      "slicing 1st column all rows\n",
      "[20 50 80]\n"
     ]
    }
   ],
   "source": [
    "print(\"slicing 1st column all rows\")\n",
    "print(n[:, 1])"
   ]
  },
  {
   "cell_type": "code",
   "execution_count": 10,
   "id": "absent-banner",
   "metadata": {},
   "outputs": [
    {
     "name": "stdout",
     "output_type": "stream",
     "text": [
      "slicing 2nd column all rows\n",
      "[30 60 90]\n"
     ]
    }
   ],
   "source": [
    "print(\"slicing 2nd column all rows\")\n",
    "print(n[:, 2])"
   ]
  },
  {
   "cell_type": "code",
   "execution_count": 11,
   "id": "knowing-extreme",
   "metadata": {},
   "outputs": [
    {
     "name": "stdout",
     "output_type": "stream",
     "text": [
      "[[10 20 30]\n",
      " [40 50 60]\n",
      " [70 80 90]]\n"
     ]
    }
   ],
   "source": [
    "print(n[:])"
   ]
  },
  {
   "cell_type": "code",
   "execution_count": 12,
   "id": "veterinary-tomato",
   "metadata": {},
   "outputs": [
    {
     "data": {
      "text/plain": [
       "array([[10, 20, 30],\n",
       "       [40, 50, 60],\n",
       "       [70, 80, 90]])"
      ]
     },
     "execution_count": 12,
     "metadata": {},
     "output_type": "execute_result"
    }
   ],
   "source": [
    "n[::]"
   ]
  },
  {
   "cell_type": "code",
   "execution_count": 13,
   "id": "nasty-lawsuit",
   "metadata": {},
   "outputs": [
    {
     "data": {
      "text/plain": [
       "array([[10, 20, 30],\n",
       "       [40, 50, 60],\n",
       "       [70, 80, 90]])"
      ]
     },
     "execution_count": 13,
     "metadata": {},
     "output_type": "execute_result"
    }
   ],
   "source": [
    "n[:,:]"
   ]
  },
  {
   "cell_type": "code",
   "execution_count": 14,
   "id": "wound-geology",
   "metadata": {},
   "outputs": [],
   "source": [
    "# slicing specific element"
   ]
  },
  {
   "cell_type": "code",
   "execution_count": 15,
   "id": "equivalent-corruption",
   "metadata": {},
   "outputs": [
    {
     "name": "stdout",
     "output_type": "stream",
     "text": [
      "[]\n"
     ]
    }
   ],
   "source": [
    "print(n[0:0, 0:0])"
   ]
  },
  {
   "cell_type": "code",
   "execution_count": 16,
   "id": "capital-butter",
   "metadata": {},
   "outputs": [
    {
     "data": {
      "text/plain": [
       "array([[10]])"
      ]
     },
     "execution_count": 16,
     "metadata": {},
     "output_type": "execute_result"
    }
   ],
   "source": [
    "n[0:1, 0:1]"
   ]
  },
  {
   "cell_type": "code",
   "execution_count": 17,
   "id": "different-paper",
   "metadata": {},
   "outputs": [
    {
     "name": "stdout",
     "output_type": "stream",
     "text": [
      "[[10]]\n"
     ]
    }
   ],
   "source": [
    "print(n[0:1, 0:1])"
   ]
  },
  {
   "cell_type": "code",
   "execution_count": 18,
   "id": "obvious-alberta",
   "metadata": {},
   "outputs": [
    {
     "name": "stdout",
     "output_type": "stream",
     "text": [
      "[[50]]\n"
     ]
    }
   ],
   "source": [
    "print(n[1:2, 1:2])"
   ]
  },
  {
   "cell_type": "code",
   "execution_count": 19,
   "id": "personalized-proposition",
   "metadata": {},
   "outputs": [
    {
     "name": "stdout",
     "output_type": "stream",
     "text": [
      "[[50 60]\n",
      " [80 90]]\n"
     ]
    }
   ],
   "source": [
    "print(n[1:3, 1:3])"
   ]
  },
  {
   "cell_type": "code",
   "execution_count": 20,
   "id": "typical-criminal",
   "metadata": {},
   "outputs": [
    {
     "name": "stdout",
     "output_type": "stream",
     "text": [
      "[[10 20]\n",
      " [40 50]]\n"
     ]
    }
   ],
   "source": [
    "print(n[0:2, 0:2])"
   ]
  },
  {
   "cell_type": "code",
   "execution_count": 21,
   "id": "artificial-equity",
   "metadata": {},
   "outputs": [
    {
     "name": "stdout",
     "output_type": "stream",
     "text": [
      "[[90]]\n"
     ]
    }
   ],
   "source": [
    "print(n[2:3, 2:3])"
   ]
  },
  {
   "cell_type": "code",
   "execution_count": 22,
   "id": "blank-phase",
   "metadata": {},
   "outputs": [
    {
     "name": "stdout",
     "output_type": "stream",
     "text": [
      "[[40]]\n"
     ]
    }
   ],
   "source": [
    "print(n[1:2, 0:1])"
   ]
  },
  {
   "cell_type": "code",
   "execution_count": 23,
   "id": "liable-value",
   "metadata": {},
   "outputs": [
    {
     "name": "stdout",
     "output_type": "stream",
     "text": [
      "[[50]\n",
      " [80]]\n"
     ]
    }
   ],
   "source": [
    "print(n[1:3, 1:2])"
   ]
  },
  {
   "cell_type": "code",
   "execution_count": 24,
   "id": "cordless-tablet",
   "metadata": {},
   "outputs": [
    {
     "name": "stdout",
     "output_type": "stream",
     "text": [
      "[[10 20 30]\n",
      " [40 50 60]]\n"
     ]
    }
   ],
   "source": [
    "print(n[:2])"
   ]
  },
  {
   "cell_type": "code",
   "execution_count": 29,
   "id": "northern-pottery",
   "metadata": {},
   "outputs": [
    {
     "name": "stdout",
     "output_type": "stream",
     "text": [
      "[[60]]\n"
     ]
    }
   ],
   "source": [
    "print(n[1:2, 2:3])"
   ]
  },
  {
   "cell_type": "code",
   "execution_count": 41,
   "id": "pregnant-boxing",
   "metadata": {},
   "outputs": [
    {
     "name": "stdout",
     "output_type": "stream",
     "text": [
      "[[70]]\n"
     ]
    }
   ],
   "source": [
    "print(n[2:3, 0:1])"
   ]
  },
  {
   "cell_type": "code",
   "execution_count": 62,
   "id": "southern-curve",
   "metadata": {},
   "outputs": [
    {
     "name": "stdout",
     "output_type": "stream",
     "text": [
      "[[80]]\n"
     ]
    }
   ],
   "source": [
    "print(n[2:3, 1:2])"
   ]
  },
  {
   "cell_type": "code",
   "execution_count": 55,
   "id": "oriented-logic",
   "metadata": {},
   "outputs": [
    {
     "name": "stdout",
     "output_type": "stream",
     "text": [
      "[[30]]\n"
     ]
    }
   ],
   "source": [
    "print(n[0:1, 2:3])"
   ]
  },
  {
   "cell_type": "code",
   "execution_count": 57,
   "id": "still-europe",
   "metadata": {},
   "outputs": [
    {
     "name": "stdout",
     "output_type": "stream",
     "text": [
      "[[  1   2   3   4   5   6   7   8   9  10]\n",
      " [ 11  12  13  14  15  16  17  18  19  20]\n",
      " [ 21  22  23  24  25  26  27  28  29  30]\n",
      " [ 31  32  33  34  35  36  37  38  39  40]\n",
      " [ 41  42  43  44  45  46  47  48  49  50]\n",
      " [ 51  52  53  54  55  56  57  58  59  60]\n",
      " [ 61  62  63  64  65  66  67  68  69  70]\n",
      " [ 71  72  73  74  75  76  77  78  79  80]\n",
      " [ 81  82  83  84  85  86  87  88  89  90]\n",
      " [ 91  92  93  94  95  96  97  98  99 100]]\n"
     ]
    }
   ],
   "source": [
    "a =  arange(1,101).reshape(10,10)\n",
    "print(a)\n",
    "\n"
   ]
  },
  {
   "cell_type": "code",
   "execution_count": 78,
   "id": "peaceful-belgium",
   "metadata": {},
   "outputs": [
    {
     "name": "stdout",
     "output_type": "stream",
     "text": [
      "[[ 2  3]\n",
      " [12 13]\n",
      " [22 23]\n",
      " [32 33]\n",
      " [42 43]\n",
      " [52 53]\n",
      " [62 63]\n",
      " [72 73]\n",
      " [82 83]\n",
      " [92 93]]\n"
     ]
    }
   ],
   "source": [
    "print(a[:, 1:3])"
   ]
  },
  {
   "cell_type": "code",
   "execution_count": 79,
   "id": "beginning-acrobat",
   "metadata": {},
   "outputs": [
    {
     "name": "stdout",
     "output_type": "stream",
     "text": [
      "[[12 13 14 15]\n",
      " [22 23 24 25]\n",
      " [32 33 34 35]\n",
      " [42 43 44 45]]\n"
     ]
    }
   ],
   "source": [
    "print(a[1:5, 1:5])"
   ]
  },
  {
   "cell_type": "code",
   "execution_count": 80,
   "id": "brazilian-colorado",
   "metadata": {},
   "outputs": [
    {
     "data": {
      "text/plain": [
       "8"
      ]
     },
     "execution_count": 80,
     "metadata": {},
     "output_type": "execute_result"
    }
   ],
   "source": [
    "a.itemsize"
   ]
  },
  {
   "cell_type": "code",
   "execution_count": 81,
   "id": "analyzed-dating",
   "metadata": {},
   "outputs": [
    {
     "data": {
      "text/plain": [
       "dtype('int64')"
      ]
     },
     "execution_count": 81,
     "metadata": {},
     "output_type": "execute_result"
    }
   ],
   "source": [
    "a.dtype"
   ]
  },
  {
   "cell_type": "code",
   "execution_count": null,
   "id": "hispanic-jersey",
   "metadata": {},
   "outputs": [],
   "source": []
  }
 ],
 "metadata": {
  "kernelspec": {
   "display_name": "Python 3 (ipykernel)",
   "language": "python",
   "name": "python3"
  },
  "language_info": {
   "codemirror_mode": {
    "name": "ipython",
    "version": 3
   },
   "file_extension": ".py",
   "mimetype": "text/x-python",
   "name": "python",
   "nbconvert_exporter": "python",
   "pygments_lexer": "ipython3",
   "version": "3.9.2"
  }
 },
 "nbformat": 4,
 "nbformat_minor": 5
}
