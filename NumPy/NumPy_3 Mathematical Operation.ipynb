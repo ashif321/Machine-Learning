{
 "cells": [
  {
   "cell_type": "markdown",
   "id": "demographic-lancaster",
   "metadata": {},
   "source": [
    "# Mathematic Operation Using NumPy "
   ]
  },
  {
   "cell_type": "code",
   "execution_count": 1,
   "id": "sharing-contemporary",
   "metadata": {},
   "outputs": [],
   "source": [
    "from numpy import *"
   ]
  },
  {
   "cell_type": "code",
   "execution_count": 3,
   "id": "hidden-command",
   "metadata": {},
   "outputs": [
    {
     "name": "stdout",
     "output_type": "stream",
     "text": [
      "[[1 2 3]\n",
      " [4 5 6]\n",
      " [7 8 9]]\n",
      "[[1 2 3]\n",
      " [4 5 6]\n",
      " [7 8 9]]\n"
     ]
    }
   ],
   "source": [
    "arr1 = arange(1,10).reshape(3,3)\n",
    "arr2 = arange(1,10).reshape(3,3)\n",
    "print(arr1)\n",
    "print(arr2)"
   ]
  },
  {
   "cell_type": "markdown",
   "id": "sweet-share",
   "metadata": {},
   "source": [
    "# Addition "
   ]
  },
  {
   "cell_type": "code",
   "execution_count": 6,
   "id": "extra-meditation",
   "metadata": {},
   "outputs": [
    {
     "data": {
      "text/plain": [
       "array([[ 2,  4,  6],\n",
       "       [ 8, 10, 12],\n",
       "       [14, 16, 18]])"
      ]
     },
     "execution_count": 6,
     "metadata": {},
     "output_type": "execute_result"
    }
   ],
   "source": [
    "arr1 + arr2"
   ]
  },
  {
   "cell_type": "code",
   "execution_count": 7,
   "id": "lyric-smell",
   "metadata": {},
   "outputs": [
    {
     "data": {
      "text/plain": [
       "array([[ 2,  4,  6],\n",
       "       [ 8, 10, 12],\n",
       "       [14, 16, 18]])"
      ]
     },
     "execution_count": 7,
     "metadata": {},
     "output_type": "execute_result"
    }
   ],
   "source": [
    "add(arr1, arr2)"
   ]
  },
  {
   "cell_type": "markdown",
   "id": "removed-begin",
   "metadata": {},
   "source": [
    "# Subtraction "
   ]
  },
  {
   "cell_type": "code",
   "execution_count": 8,
   "id": "average-helping",
   "metadata": {},
   "outputs": [
    {
     "data": {
      "text/plain": [
       "array([[0, 0, 0],\n",
       "       [0, 0, 0],\n",
       "       [0, 0, 0]])"
      ]
     },
     "execution_count": 8,
     "metadata": {},
     "output_type": "execute_result"
    }
   ],
   "source": [
    "arr1 - arr2"
   ]
  },
  {
   "cell_type": "code",
   "execution_count": 9,
   "id": "palestinian-decline",
   "metadata": {},
   "outputs": [
    {
     "data": {
      "text/plain": [
       "array([[0, 0, 0],\n",
       "       [0, 0, 0],\n",
       "       [0, 0, 0]])"
      ]
     },
     "execution_count": 9,
     "metadata": {},
     "output_type": "execute_result"
    }
   ],
   "source": [
    "subtract(arr1, arr2)"
   ]
  },
  {
   "cell_type": "markdown",
   "id": "considerable-schedule",
   "metadata": {},
   "source": [
    "# Multiplication"
   ]
  },
  {
   "cell_type": "code",
   "execution_count": 13,
   "id": "recreational-investigator",
   "metadata": {},
   "outputs": [
    {
     "data": {
      "text/plain": [
       "array([[ 1,  4,  9],\n",
       "       [16, 25, 36],\n",
       "       [49, 64, 81]])"
      ]
     },
     "execution_count": 13,
     "metadata": {},
     "output_type": "execute_result"
    }
   ],
   "source": [
    "arr1 * arr2"
   ]
  },
  {
   "cell_type": "code",
   "execution_count": 14,
   "id": "south-public",
   "metadata": {},
   "outputs": [
    {
     "data": {
      "text/plain": [
       "array([[ 1,  4,  9],\n",
       "       [16, 25, 36],\n",
       "       [49, 64, 81]])"
      ]
     },
     "execution_count": 14,
     "metadata": {},
     "output_type": "execute_result"
    }
   ],
   "source": [
    "multiply(arr1, arr2)"
   ]
  },
  {
   "cell_type": "markdown",
   "id": "framed-leisure",
   "metadata": {},
   "source": [
    "# Product"
   ]
  },
  {
   "cell_type": "code",
   "execution_count": 15,
   "id": "piano-occasions",
   "metadata": {},
   "outputs": [
    {
     "data": {
      "text/plain": [
       "array([[ 30,  36,  42],\n",
       "       [ 66,  81,  96],\n",
       "       [102, 126, 150]])"
      ]
     },
     "execution_count": 15,
     "metadata": {},
     "output_type": "execute_result"
    }
   ],
   "source": [
    "arr1 @ arr2"
   ]
  },
  {
   "cell_type": "code",
   "execution_count": 16,
   "id": "cathedral-fossil",
   "metadata": {},
   "outputs": [
    {
     "data": {
      "text/plain": [
       "array([[ 30,  36,  42],\n",
       "       [ 66,  81,  96],\n",
       "       [102, 126, 150]])"
      ]
     },
     "execution_count": 16,
     "metadata": {},
     "output_type": "execute_result"
    }
   ],
   "source": [
    "arr1.dot(arr2)"
   ]
  },
  {
   "cell_type": "markdown",
   "id": "asian-greensboro",
   "metadata": {},
   "source": [
    "# Division "
   ]
  },
  {
   "cell_type": "code",
   "execution_count": 10,
   "id": "historic-mouse",
   "metadata": {},
   "outputs": [
    {
     "data": {
      "text/plain": [
       "array([[1., 1., 1.],\n",
       "       [1., 1., 1.],\n",
       "       [1., 1., 1.]])"
      ]
     },
     "execution_count": 10,
     "metadata": {},
     "output_type": "execute_result"
    }
   ],
   "source": [
    "arr1 / arr2"
   ]
  },
  {
   "cell_type": "code",
   "execution_count": 11,
   "id": "southeast-tsunami",
   "metadata": {},
   "outputs": [
    {
     "data": {
      "text/plain": [
       "array([[1., 1., 1.],\n",
       "       [1., 1., 1.],\n",
       "       [1., 1., 1.]])"
      ]
     },
     "execution_count": 11,
     "metadata": {},
     "output_type": "execute_result"
    }
   ],
   "source": [
    "divide(arr1, arr2)"
   ]
  },
  {
   "cell_type": "markdown",
   "id": "wound-queensland",
   "metadata": {},
   "source": [
    "# Find Maximum Value"
   ]
  },
  {
   "cell_type": "code",
   "execution_count": 17,
   "id": "completed-heating",
   "metadata": {},
   "outputs": [
    {
     "data": {
      "text/plain": [
       "array([[1, 2, 3],\n",
       "       [4, 5, 6],\n",
       "       [7, 8, 9]])"
      ]
     },
     "execution_count": 17,
     "metadata": {},
     "output_type": "execute_result"
    }
   ],
   "source": [
    "arr1"
   ]
  },
  {
   "cell_type": "code",
   "execution_count": 19,
   "id": "enhanced-hygiene",
   "metadata": {},
   "outputs": [
    {
     "data": {
      "text/plain": [
       "9"
      ]
     },
     "execution_count": 19,
     "metadata": {},
     "output_type": "execute_result"
    }
   ],
   "source": [
    "arr1.max()"
   ]
  },
  {
   "cell_type": "markdown",
   "id": "atomic-berkeley",
   "metadata": {},
   "source": [
    "# Find maximum index Value"
   ]
  },
  {
   "cell_type": "code",
   "execution_count": 20,
   "id": "czech-given",
   "metadata": {},
   "outputs": [
    {
     "data": {
      "text/plain": [
       "array([[1, 2, 3],\n",
       "       [4, 5, 6],\n",
       "       [7, 8, 9]])"
      ]
     },
     "execution_count": 20,
     "metadata": {},
     "output_type": "execute_result"
    }
   ],
   "source": [
    "arr1"
   ]
  },
  {
   "cell_type": "code",
   "execution_count": 21,
   "id": "worse-prescription",
   "metadata": {},
   "outputs": [
    {
     "data": {
      "text/plain": [
       "8"
      ]
     },
     "execution_count": 21,
     "metadata": {},
     "output_type": "execute_result"
    }
   ],
   "source": [
    "arr1.argmax()"
   ]
  },
  {
   "cell_type": "markdown",
   "id": "bottom-finland",
   "metadata": {},
   "source": [
    "# Find maximum value in column"
   ]
  },
  {
   "cell_type": "code",
   "execution_count": 22,
   "id": "realistic-pleasure",
   "metadata": {},
   "outputs": [
    {
     "data": {
      "text/plain": [
       "array([7, 8, 9])"
      ]
     },
     "execution_count": 22,
     "metadata": {},
     "output_type": "execute_result"
    }
   ],
   "source": [
    "arr1.max(axis = 0)"
   ]
  },
  {
   "cell_type": "markdown",
   "id": "reflected-proposal",
   "metadata": {},
   "source": [
    "# Find maximum value in row"
   ]
  },
  {
   "cell_type": "code",
   "execution_count": 24,
   "id": "hydraulic-peace",
   "metadata": {},
   "outputs": [
    {
     "data": {
      "text/plain": [
       "array([3, 6, 9])"
      ]
     },
     "execution_count": 24,
     "metadata": {},
     "output_type": "execute_result"
    }
   ],
   "source": [
    "arr1.max(axis = 1)"
   ]
  },
  {
   "cell_type": "markdown",
   "id": "suffering-permission",
   "metadata": {},
   "source": [
    "# Find minimum  value"
   ]
  },
  {
   "cell_type": "code",
   "execution_count": 25,
   "id": "saved-artist",
   "metadata": {},
   "outputs": [
    {
     "data": {
      "text/plain": [
       "1"
      ]
     },
     "execution_count": 25,
     "metadata": {},
     "output_type": "execute_result"
    }
   ],
   "source": [
    "arr1.min()"
   ]
  },
  {
   "cell_type": "markdown",
   "id": "earned-black",
   "metadata": {},
   "source": [
    "# Find minimum index value"
   ]
  },
  {
   "cell_type": "code",
   "execution_count": 27,
   "id": "abroad-blade",
   "metadata": {},
   "outputs": [
    {
     "data": {
      "text/plain": [
       "0"
      ]
     },
     "execution_count": 27,
     "metadata": {},
     "output_type": "execute_result"
    }
   ],
   "source": [
    "arr1.argmin()"
   ]
  },
  {
   "cell_type": "markdown",
   "id": "engaging-compilation",
   "metadata": {},
   "source": [
    "# Find minimum value in column"
   ]
  },
  {
   "cell_type": "code",
   "execution_count": 28,
   "id": "introductory-shareware",
   "metadata": {},
   "outputs": [
    {
     "data": {
      "text/plain": [
       "array([1, 2, 3])"
      ]
     },
     "execution_count": 28,
     "metadata": {},
     "output_type": "execute_result"
    }
   ],
   "source": [
    "arr1.min(axis = 0)"
   ]
  },
  {
   "cell_type": "markdown",
   "id": "ambient-novelty",
   "metadata": {},
   "source": [
    "# Find minimum value in row"
   ]
  },
  {
   "cell_type": "code",
   "execution_count": 29,
   "id": "complete-clock",
   "metadata": {},
   "outputs": [
    {
     "data": {
      "text/plain": [
       "array([1, 4, 7])"
      ]
     },
     "execution_count": 29,
     "metadata": {},
     "output_type": "execute_result"
    }
   ],
   "source": [
    "arr1.min(axis = 1)"
   ]
  },
  {
   "cell_type": "markdown",
   "id": "annual-object",
   "metadata": {},
   "source": [
    "# Sum array all element "
   ]
  },
  {
   "cell_type": "code",
   "execution_count": 30,
   "id": "bottom-occupation",
   "metadata": {},
   "outputs": [
    {
     "data": {
      "text/plain": [
       "array([[1, 2, 3],\n",
       "       [4, 5, 6],\n",
       "       [7, 8, 9]])"
      ]
     },
     "execution_count": 30,
     "metadata": {},
     "output_type": "execute_result"
    }
   ],
   "source": [
    "arr1"
   ]
  },
  {
   "cell_type": "code",
   "execution_count": 33,
   "id": "raised-mitchell",
   "metadata": {},
   "outputs": [
    {
     "data": {
      "text/plain": [
       "45"
      ]
     },
     "execution_count": 33,
     "metadata": {},
     "output_type": "execute_result"
    }
   ],
   "source": [
    "sum(arr1)"
   ]
  },
  {
   "cell_type": "markdown",
   "id": "artificial-protection",
   "metadata": {},
   "source": [
    "# Sum array column element"
   ]
  },
  {
   "cell_type": "code",
   "execution_count": 34,
   "id": "suited-sucking",
   "metadata": {},
   "outputs": [
    {
     "data": {
      "text/plain": [
       "array([12, 15, 18])"
      ]
     },
     "execution_count": 34,
     "metadata": {},
     "output_type": "execute_result"
    }
   ],
   "source": [
    "sum(arr1, axis = 0)"
   ]
  },
  {
   "cell_type": "markdown",
   "id": "operating-wound",
   "metadata": {},
   "source": [
    "# Sum array row element"
   ]
  },
  {
   "cell_type": "code",
   "execution_count": 35,
   "id": "controversial-dodge",
   "metadata": {},
   "outputs": [
    {
     "data": {
      "text/plain": [
       "array([ 6, 15, 24])"
      ]
     },
     "execution_count": 35,
     "metadata": {},
     "output_type": "execute_result"
    }
   ],
   "source": [
    "sum(arr1, axis = 1)"
   ]
  },
  {
   "cell_type": "markdown",
   "id": "annual-execution",
   "metadata": {},
   "source": [
    "# Find average of an array "
   ]
  },
  {
   "cell_type": "code",
   "execution_count": null,
   "id": "weird-grammar",
   "metadata": {},
   "outputs": [],
   "source": [
    "# mean = sum of all outcomes / total no. of outcome\n",
    "mean(arr1)"
   ]
  },
  {
   "cell_type": "markdown",
   "id": "married-knife",
   "metadata": {},
   "source": [
    "# Find square root of an array"
   ]
  },
  {
   "cell_type": "code",
   "execution_count": 38,
   "id": "further-kitty",
   "metadata": {},
   "outputs": [
    {
     "data": {
      "text/plain": [
       "array([[1.        , 1.41421356, 1.73205081],\n",
       "       [2.        , 2.23606798, 2.44948974],\n",
       "       [2.64575131, 2.82842712, 3.        ]])"
      ]
     },
     "execution_count": 38,
     "metadata": {},
     "output_type": "execute_result"
    }
   ],
   "source": [
    "sqrt(arr1)"
   ]
  },
  {
   "cell_type": "markdown",
   "id": "noticed-affiliate",
   "metadata": {},
   "source": [
    "# standard division "
   ]
  },
  {
   "cell_type": "code",
   "execution_count": 39,
   "id": "prescription-accreditation",
   "metadata": {},
   "outputs": [
    {
     "data": {
      "text/plain": [
       "2.581988897471611"
      ]
     },
     "execution_count": 39,
     "metadata": {},
     "output_type": "execute_result"
    }
   ],
   "source": [
    "std(arr1)"
   ]
  },
  {
   "cell_type": "markdown",
   "id": "prescribed-cream",
   "metadata": {},
   "source": [
    "# exponent"
   ]
  },
  {
   "cell_type": "code",
   "execution_count": 40,
   "id": "apart-emergency",
   "metadata": {},
   "outputs": [
    {
     "data": {
      "text/plain": [
       "array([[2.71828183e+00, 7.38905610e+00, 2.00855369e+01],\n",
       "       [5.45981500e+01, 1.48413159e+02, 4.03428793e+02],\n",
       "       [1.09663316e+03, 2.98095799e+03, 8.10308393e+03]])"
      ]
     },
     "execution_count": 40,
     "metadata": {},
     "output_type": "execute_result"
    }
   ],
   "source": [
    "exp(arr1)"
   ]
  },
  {
   "cell_type": "markdown",
   "id": "broad-florida",
   "metadata": {},
   "source": [
    "# log "
   ]
  },
  {
   "cell_type": "code",
   "execution_count": 41,
   "id": "extended-eating",
   "metadata": {},
   "outputs": [
    {
     "data": {
      "text/plain": [
       "array([[0.        , 0.69314718, 1.09861229],\n",
       "       [1.38629436, 1.60943791, 1.79175947],\n",
       "       [1.94591015, 2.07944154, 2.19722458]])"
      ]
     },
     "execution_count": 41,
     "metadata": {},
     "output_type": "execute_result"
    }
   ],
   "source": [
    "log(arr1)"
   ]
  },
  {
   "cell_type": "code",
   "execution_count": 42,
   "id": "incomplete-penny",
   "metadata": {},
   "outputs": [
    {
     "data": {
      "text/plain": [
       "array([[0.        , 0.30103   , 0.47712125],\n",
       "       [0.60205999, 0.69897   , 0.77815125],\n",
       "       [0.84509804, 0.90308999, 0.95424251]])"
      ]
     },
     "execution_count": 42,
     "metadata": {},
     "output_type": "execute_result"
    }
   ],
   "source": [
    "log10(arr1)"
   ]
  },
  {
   "cell_type": "code",
   "execution_count": 43,
   "id": "imperial-crisis",
   "metadata": {},
   "outputs": [
    {
     "data": {
      "text/plain": [
       "array([[0.        , 1.        , 1.5849625 ],\n",
       "       [2.        , 2.32192809, 2.5849625 ],\n",
       "       [2.80735492, 3.        , 3.169925  ]])"
      ]
     },
     "execution_count": 43,
     "metadata": {},
     "output_type": "execute_result"
    }
   ],
   "source": [
    "log2(arr1)"
   ]
  },
  {
   "cell_type": "code",
   "execution_count": null,
   "id": "local-hundred",
   "metadata": {},
   "outputs": [],
   "source": []
  }
 ],
 "metadata": {
  "kernelspec": {
   "display_name": "Python 3 (ipykernel)",
   "language": "python",
   "name": "python3"
  },
  "language_info": {
   "codemirror_mode": {
    "name": "ipython",
    "version": 3
   },
   "file_extension": ".py",
   "mimetype": "text/x-python",
   "name": "python",
   "nbconvert_exporter": "python",
   "pygments_lexer": "ipython3",
   "version": "3.9.2"
  }
 },
 "nbformat": 4,
 "nbformat_minor": 5
}
