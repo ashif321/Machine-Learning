{
 "cells": [
  {
   "cell_type": "markdown",
   "id": "stuck-saudi",
   "metadata": {},
   "source": [
    "# Attributes in pandas "
   ]
  },
  {
   "cell_type": "code",
   "execution_count": 1,
   "id": "electronic-diagnosis",
   "metadata": {},
   "outputs": [],
   "source": [
    "import pandas as pd "
   ]
  },
  {
   "cell_type": "code",
   "execution_count": 3,
   "id": "european-richardson",
   "metadata": {},
   "outputs": [],
   "source": [
    "men = [\"smart\", \"handsome\", \"charming\", \"humble\"]\n",
    "s = pd.Series(men)"
   ]
  },
  {
   "cell_type": "code",
   "execution_count": 4,
   "id": "referenced-killing",
   "metadata": {},
   "outputs": [
    {
     "data": {
      "text/plain": [
       "0       smart\n",
       "1    handsome\n",
       "2    charming\n",
       "3      humble\n",
       "dtype: object"
      ]
     },
     "execution_count": 4,
     "metadata": {},
     "output_type": "execute_result"
    }
   ],
   "source": [
    "s"
   ]
  },
  {
   "cell_type": "code",
   "execution_count": 5,
   "id": "central-classics",
   "metadata": {},
   "outputs": [
    {
     "data": {
      "text/plain": [
       "array(['smart', 'handsome', 'charming', 'humble'], dtype=object)"
      ]
     },
     "execution_count": 5,
     "metadata": {},
     "output_type": "execute_result"
    }
   ],
   "source": [
    "s.values"
   ]
  },
  {
   "cell_type": "code",
   "execution_count": 6,
   "id": "rising-census",
   "metadata": {},
   "outputs": [
    {
     "data": {
      "text/plain": [
       "RangeIndex(start=0, stop=4, step=1)"
      ]
     },
     "execution_count": 6,
     "metadata": {},
     "output_type": "execute_result"
    }
   ],
   "source": [
    "s.index"
   ]
  },
  {
   "cell_type": "code",
   "execution_count": 7,
   "id": "iraqi-turner",
   "metadata": {},
   "outputs": [
    {
     "data": {
      "text/plain": [
       "dtype('O')"
      ]
     },
     "execution_count": 7,
     "metadata": {},
     "output_type": "execute_result"
    }
   ],
   "source": [
    "s.dtype"
   ]
  },
  {
   "cell_type": "markdown",
   "id": "patient-appeal",
   "metadata": {},
   "source": [
    "# Methods in pandas "
   ]
  },
  {
   "cell_type": "code",
   "execution_count": 10,
   "id": "presidential-democracy",
   "metadata": {},
   "outputs": [
    {
     "data": {
      "text/plain": [
       "0    3.99\n",
       "1    4.54\n",
       "2    6.52\n",
       "3    5.55\n",
       "4    7.91\n",
       "dtype: float64"
      ]
     },
     "execution_count": 10,
     "metadata": {},
     "output_type": "execute_result"
    }
   ],
   "source": [
    "rate = [3.99, 4.54, 6.52, 5.55, 7.91]\n",
    "m = pd.Series(rate)\n",
    "m"
   ]
  },
  {
   "cell_type": "code",
   "execution_count": 11,
   "id": "considered-mediterranean",
   "metadata": {},
   "outputs": [
    {
     "data": {
      "text/plain": [
       "28.51"
      ]
     },
     "execution_count": 11,
     "metadata": {},
     "output_type": "execute_result"
    }
   ],
   "source": [
    "# Calculate sum of whole series using method \n",
    "m.sum()"
   ]
  },
  {
   "cell_type": "code",
   "execution_count": 12,
   "id": "eleven-stanley",
   "metadata": {},
   "outputs": [
    {
     "data": {
      "text/plain": [
       "5184.9647823959995"
      ]
     },
     "execution_count": 12,
     "metadata": {},
     "output_type": "execute_result"
    }
   ],
   "source": [
    "# Calculate product a  series\n",
    "m.product()"
   ]
  },
  {
   "cell_type": "code",
   "execution_count": 13,
   "id": "another-knife",
   "metadata": {},
   "outputs": [
    {
     "data": {
      "text/plain": [
       "5.702"
      ]
     },
     "execution_count": 13,
     "metadata": {},
     "output_type": "execute_result"
    }
   ],
   "source": [
    "# Find average of series\n",
    "m.mean()"
   ]
  },
  {
   "cell_type": "code",
   "execution_count": 14,
   "id": "nervous-logistics",
   "metadata": {},
   "outputs": [
    {
     "data": {
      "text/plain": [
       "mon          Apple\n",
       "Tue          Mango\n",
       "Wed     Watermelon\n",
       "Thur     pineapple\n",
       "dtype: object"
      ]
     },
     "execution_count": 14,
     "metadata": {},
     "output_type": "execute_result"
    }
   ],
   "source": [
    "# Create a new list and create a labeled indexing\n",
    "fruits = [\"Apple\", \"Mango\", \"Watermelon\", \"pineapple\"]\n",
    "weekdays = [\"mon\", \"Tue\", \"Wed\", \"Thur\"]\n",
    "pd.Series(fruits, weekdays)"
   ]
  },
  {
   "cell_type": "code",
   "execution_count": 15,
   "id": "altered-namibia",
   "metadata": {},
   "outputs": [
    {
     "data": {
      "text/plain": [
       "mon          Apple\n",
       "Tue          Mango\n",
       "Wed     Watermelon\n",
       "Thur     pineapple\n",
       "dtype: object"
      ]
     },
     "execution_count": 15,
     "metadata": {},
     "output_type": "execute_result"
    }
   ],
   "source": [
    "pd.Series(data=fruits, index=weekdays)"
   ]
  },
  {
   "cell_type": "code",
   "execution_count": 16,
   "id": "directed-tamil",
   "metadata": {},
   "outputs": [
    {
     "data": {
      "text/plain": [
       "Apple          mon\n",
       "Mango          Tue\n",
       "Watermelon     Wed\n",
       "pineapple     Thur\n",
       "dtype: object"
      ]
     },
     "execution_count": 16,
     "metadata": {},
     "output_type": "execute_result"
    }
   ],
   "source": [
    "pd.Series(weekdays, fruits)"
   ]
  },
  {
   "cell_type": "code",
   "execution_count": 17,
   "id": "electoral-lecture",
   "metadata": {},
   "outputs": [],
   "source": [
    "# Create two dictionary\n",
    "d1 = {'Japan':80, 'China':450, 'India':200, 'USA':250}\n",
    "d2 = {'Brazil':100, 'China':500, 'India':210, 'USA':260}\n",
    "s_d1 = pd.Series(d1)\n",
    "s_d2 = pd.Series(d2)"
   ]
  },
  {
   "cell_type": "code",
   "execution_count": 18,
   "id": "historical-password",
   "metadata": {},
   "outputs": [
    {
     "data": {
      "text/plain": [
       "Brazil      NaN\n",
       "China     950.0\n",
       "India     410.0\n",
       "Japan       NaN\n",
       "USA       510.0\n",
       "dtype: float64"
      ]
     },
     "execution_count": 18,
     "metadata": {},
     "output_type": "execute_result"
    }
   ],
   "source": [
    "# Add both values\n",
    "s_d1.add(s_d2)"
   ]
  },
  {
   "cell_type": "code",
   "execution_count": 19,
   "id": "novel-composite",
   "metadata": {},
   "outputs": [
    {
     "data": {
      "text/plain": [
       "Brazil    100.0\n",
       "China     950.0\n",
       "India     410.0\n",
       "Japan      80.0\n",
       "USA       510.0\n",
       "dtype: float64"
      ]
     },
     "execution_count": 19,
     "metadata": {},
     "output_type": "execute_result"
    }
   ],
   "source": [
    "s_d1.add(s_d2, fill_value=0)"
   ]
  },
  {
   "cell_type": "code",
   "execution_count": null,
   "id": "associate-mainland",
   "metadata": {},
   "outputs": [],
   "source": []
  }
 ],
 "metadata": {
  "kernelspec": {
   "display_name": "Python 3 (ipykernel)",
   "language": "python",
   "name": "python3"
  },
  "language_info": {
   "codemirror_mode": {
    "name": "ipython",
    "version": 3
   },
   "file_extension": ".py",
   "mimetype": "text/x-python",
   "name": "python",
   "nbconvert_exporter": "python",
   "pygments_lexer": "ipython3",
   "version": "3.9.2"
  }
 },
 "nbformat": 4,
 "nbformat_minor": 5
}
