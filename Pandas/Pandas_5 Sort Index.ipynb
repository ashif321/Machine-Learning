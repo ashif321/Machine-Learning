{
 "cells": [
  {
   "cell_type": "markdown",
   "id": "underlying-motivation",
   "metadata": {},
   "source": [
    "# Sort Index"
   ]
  },
  {
   "cell_type": "code",
   "execution_count": 2,
   "id": "danish-vermont",
   "metadata": {},
   "outputs": [],
   "source": [
    "import numpy as np\n",
    "import pandas as pd"
   ]
  },
  {
   "cell_type": "code",
   "execution_count": 4,
   "id": "hairy-clear",
   "metadata": {},
   "outputs": [
    {
     "data": {
      "text/plain": [
       "1    s\n",
       "3    q\n",
       "5    p\n",
       "6    r\n",
       "dtype: object"
      ]
     },
     "execution_count": 4,
     "metadata": {},
     "output_type": "execute_result"
    }
   ],
   "source": [
    "s = pd.Series(['p','q','r','s'], index=[5,3,6,1])\n",
    "s.sort_index()"
   ]
  },
  {
   "cell_type": "code",
   "execution_count": 5,
   "id": "another-smith",
   "metadata": {},
   "outputs": [
    {
     "data": {
      "text/plain": [
       "6    r\n",
       "5    p\n",
       "3    q\n",
       "1    s\n",
       "dtype: object"
      ]
     },
     "execution_count": 5,
     "metadata": {},
     "output_type": "execute_result"
    }
   ],
   "source": [
    "s.sort_index(ascending=False)"
   ]
  },
  {
   "cell_type": "code",
   "execution_count": 6,
   "id": "radical-latex",
   "metadata": {},
   "outputs": [],
   "source": [
    "s.sort_index(inplace=True)"
   ]
  },
  {
   "cell_type": "code",
   "execution_count": 9,
   "id": "confirmed-bottle",
   "metadata": {},
   "outputs": [
    {
     "data": {
      "text/plain": [
       "NaN    s\n",
       "1.0    r\n",
       "2.0    p\n",
       "4.0    q\n",
       "dtype: object"
      ]
     },
     "execution_count": 9,
     "metadata": {},
     "output_type": "execute_result"
    }
   ],
   "source": [
    "# Bydefault NaN are put at the end, but use na_position to take place them at the begining\n",
    "s1 = pd.Series(['p','q','r','s'],index=[2,4,1,np.nan])\n",
    "s1.sort_index(na_position='first')"
   ]
  },
  {
   "cell_type": "code",
   "execution_count": null,
   "id": "ethical-convert",
   "metadata": {},
   "outputs": [],
   "source": []
  }
 ],
 "metadata": {
  "kernelspec": {
   "display_name": "Python 3 (ipykernel)",
   "language": "python",
   "name": "python3"
  },
  "language_info": {
   "codemirror_mode": {
    "name": "ipython",
    "version": 3
   },
   "file_extension": ".py",
   "mimetype": "text/x-python",
   "name": "python",
   "nbconvert_exporter": "python",
   "pygments_lexer": "ipython3",
   "version": "3.9.2"
  }
 },
 "nbformat": 4,
 "nbformat_minor": 5
}
