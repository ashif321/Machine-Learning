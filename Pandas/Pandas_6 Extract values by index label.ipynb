{
 "cells": [
  {
   "cell_type": "markdown",
   "id": "intensive-manchester",
   "metadata": {},
   "source": [
    "# Extract values by index label "
   ]
  },
  {
   "cell_type": "code",
   "execution_count": 1,
   "id": "incorrect-puzzle",
   "metadata": {},
   "outputs": [],
   "source": [
    "import pandas as pd"
   ]
  },
  {
   "cell_type": "code",
   "execution_count": 2,
   "id": "happy-change",
   "metadata": {},
   "outputs": [
    {
     "data": {
      "text/plain": [
       "Pokemon\n",
       "Bulbasaur     Grass\n",
       "Ivysaur       Grass\n",
       "Venusaur      Grass\n",
       "Charmander     Fire\n",
       "Charmeleon     Fire\n",
       "Charizard      Fire\n",
       "Squirtle      Water\n",
       "Wartortle     Water\n",
       "Blastoise     Water\n",
       "Caterpie        Bug\n",
       "Name: Type, dtype: object"
      ]
     },
     "execution_count": 2,
     "metadata": {},
     "output_type": "execute_result"
    }
   ],
   "source": [
    "pokemon = pd.read_csv(\"/home/ashif/Machine Learning/csv files/pokemon.csv\", index_col= 'Pokemon', squeeze=True)\n",
    "pokemon.head(10)"
   ]
  },
  {
   "cell_type": "code",
   "execution_count": 4,
   "id": "pleased-mission",
   "metadata": {},
   "outputs": [
    {
     "data": {
      "text/plain": [
       "'Fire'"
      ]
     },
     "execution_count": 4,
     "metadata": {},
     "output_type": "execute_result"
    }
   ],
   "source": [
    "# Extract values by index label\n",
    "pokemon[\"Charizard\"]"
   ]
  },
  {
   "cell_type": "code",
   "execution_count": 5,
   "id": "uniform-spider",
   "metadata": {},
   "outputs": [
    {
     "data": {
      "text/plain": [
       "'Grass'"
      ]
     },
     "execution_count": 5,
     "metadata": {},
     "output_type": "execute_result"
    }
   ],
   "source": [
    "# Extract values by index label\n",
    "pokemon[\"Ivysaur\"]"
   ]
  },
  {
   "cell_type": "code",
   "execution_count": 6,
   "id": "recent-portsmouth",
   "metadata": {},
   "outputs": [
    {
     "data": {
      "text/plain": [
       "Pokemon\n",
       "Bulbasaur    Grass\n",
       "Squirtle     Water\n",
       "Caterpie       Bug\n",
       "Name: Type, dtype: object"
      ]
     },
     "execution_count": 6,
     "metadata": {},
     "output_type": "execute_result"
    }
   ],
   "source": [
    "# Extract multiple values by index\n",
    "pokemon[[\"Bulbasaur\", \"Squirtle\", \"Caterpie\"]]"
   ]
  },
  {
   "cell_type": "code",
   "execution_count": 7,
   "id": "informed-inspiration",
   "metadata": {},
   "outputs": [
    {
     "data": {
      "text/plain": [
       "Pokemon\n",
       "Bulbasaur        Grass\n",
       "Ivysaur          Grass\n",
       "Venusaur         Grass\n",
       "Charmander        Fire\n",
       "Charmeleon        Fire\n",
       "Charizard         Fire\n",
       "Squirtle         Water\n",
       "Wartortle        Water\n",
       "Blastoise        Water\n",
       "Caterpie           Bug\n",
       "Metapod            Bug\n",
       "Butterfree         Bug\n",
       "Weedle             Bug\n",
       "Kakuna             Bug\n",
       "Beedrill           Bug\n",
       "Pidgey          Normal\n",
       "Pidgeotto       Normal\n",
       "Pidgeot         Normal\n",
       "Rattata         Normal\n",
       "Raticate        Normal\n",
       "Spearow         Normal\n",
       "Fearow          Normal\n",
       "Ekans           Poison\n",
       "Arbok           Poison\n",
       "Pikachu       Electric\n",
       "Name: Type, dtype: object"
      ]
     },
     "execution_count": 7,
     "metadata": {},
     "output_type": "execute_result"
    }
   ],
   "source": [
    "# Slicing a Series by index label\n",
    "pokemon[\"Bulbasaur\":\"Pikachu\"]"
   ]
  },
  {
   "cell_type": "code",
   "execution_count": null,
   "id": "worth-starter",
   "metadata": {},
   "outputs": [],
   "source": []
  }
 ],
 "metadata": {
  "kernelspec": {
   "display_name": "Python 3 (ipykernel)",
   "language": "python",
   "name": "python3"
  },
  "language_info": {
   "codemirror_mode": {
    "name": "ipython",
    "version": 3
   },
   "file_extension": ".py",
   "mimetype": "text/x-python",
   "name": "python",
   "nbconvert_exporter": "python",
   "pygments_lexer": "ipython3",
   "version": "3.9.2"
  }
 },
 "nbformat": 4,
 "nbformat_minor": 5
}
