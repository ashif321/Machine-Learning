{
 "cells": [
  {
   "cell_type": "markdown",
   "id": "7d8586a6",
   "metadata": {},
   "source": [
    "# Extract values by index position "
   ]
  },
  {
   "cell_type": "code",
   "execution_count": 1,
   "id": "a458a85d",
   "metadata": {},
   "outputs": [],
   "source": [
    "import pandas as pd"
   ]
  },
  {
   "cell_type": "code",
   "execution_count": 3,
   "id": "cdd56724",
   "metadata": {},
   "outputs": [
    {
     "name": "stderr",
     "output_type": "stream",
     "text": [
      "C:\\Users\\HCL\\AppData\\Local\\Temp\\ipykernel_3304\\3338161273.py:1: FutureWarning: The squeeze argument has been deprecated and will be removed in a future version. Append .squeeze(\"columns\") to the call to squeeze.\n",
      "\n",
      "\n",
      "  pokemon = pd.read_csv(\"csv files\\pokemon.csv\", usecols=[\"Pokemon\"], squeeze=True)\n"
     ]
    },
    {
     "data": {
      "text/plain": [
       "0       Bulbasaur\n",
       "1         Ivysaur\n",
       "2        Venusaur\n",
       "3      Charmander\n",
       "4      Charmeleon\n",
       "          ...    \n",
       "716       Yveltal\n",
       "717       Zygarde\n",
       "718       Diancie\n",
       "719         Hoopa\n",
       "720     Volcanion\n",
       "Name: Pokemon, Length: 721, dtype: object"
      ]
     },
     "execution_count": 3,
     "metadata": {},
     "output_type": "execute_result"
    }
   ],
   "source": [
    "pokemon = pd.read_csv(\"csv files\\pokemon.csv\", usecols=[\"Pokemon\"], squeeze=True)\n",
    "pokemon"
   ]
  },
  {
   "cell_type": "code",
   "execution_count": 4,
   "id": "68354692",
   "metadata": {},
   "outputs": [
    {
     "data": {
      "text/plain": [
       "'Butterfree'"
      ]
     },
     "execution_count": 4,
     "metadata": {},
     "output_type": "execute_result"
    }
   ],
   "source": [
    "# Extract value by index \n",
    "pokemon[11]"
   ]
  },
  {
   "cell_type": "code",
   "execution_count": 5,
   "id": "518e5724",
   "metadata": {},
   "outputs": [
    {
     "data": {
      "text/plain": [
       "100    Electrode\n",
       "150          Mew\n",
       "175      Togetic\n",
       "200        Unown\n",
       "Name: Pokemon, dtype: object"
      ]
     },
     "execution_count": 5,
     "metadata": {},
     "output_type": "execute_result"
    }
   ],
   "source": [
    "# Extract multiple values by index\n",
    "pokemon[[100,150,175,200]]"
   ]
  },
  {
   "cell_type": "code",
   "execution_count": 6,
   "id": "c6fcd942",
   "metadata": {},
   "outputs": [
    {
     "data": {
      "text/plain": [
       "0      Bulbasaur\n",
       "1        Ivysaur\n",
       "2       Venusaur\n",
       "3     Charmander\n",
       "4     Charmeleon\n",
       "5      Charizard\n",
       "6       Squirtle\n",
       "7      Wartortle\n",
       "8      Blastoise\n",
       "9       Caterpie\n",
       "10       Metapod\n",
       "11    Butterfree\n",
       "12        Weedle\n",
       "13        Kakuna\n",
       "14      Beedrill\n",
       "15        Pidgey\n",
       "16     Pidgeotto\n",
       "17       Pidgeot\n",
       "18       Rattata\n",
       "19      Raticate\n",
       "20       Spearow\n",
       "21        Fearow\n",
       "22         Ekans\n",
       "23         Arbok\n",
       "24       Pikachu\n",
       "25        Raichu\n",
       "26     Sandshrew\n",
       "27     Sandslash\n",
       "28       Nidoran\n",
       "29      Nidorina\n",
       "30     Nidoqueen\n",
       "31      Nidoran♂\n",
       "32      Nidorino\n",
       "33      Nidoking\n",
       "34      Clefairy\n",
       "35      Clefable\n",
       "36        Vulpix\n",
       "37     Ninetales\n",
       "38    Jigglypuff\n",
       "39    Wigglytuff\n",
       "40         Zubat\n",
       "41        Golbat\n",
       "42        Oddish\n",
       "43         Gloom\n",
       "44     Vileplume\n",
       "45         Paras\n",
       "46      Parasect\n",
       "47       Venonat\n",
       "48      Venomoth\n",
       "49       Diglett\n",
       "Name: Pokemon, dtype: object"
      ]
     },
     "execution_count": 6,
     "metadata": {},
     "output_type": "execute_result"
    }
   ],
   "source": [
    "# Extract a series by index using slicing operator\n",
    "pokemon[:50]"
   ]
  },
  {
   "cell_type": "code",
   "execution_count": 7,
   "id": "a17fcec0",
   "metadata": {},
   "outputs": [
    {
     "data": {
      "text/plain": [
       "50        Dugtrio\n",
       "51         Meowth\n",
       "52        Persian\n",
       "53        Psyduck\n",
       "54        Golduck\n",
       "55         Mankey\n",
       "56       Primeape\n",
       "57      Growlithe\n",
       "58       Arcanine\n",
       "59        Poliwag\n",
       "60      Poliwhirl\n",
       "61      Poliwrath\n",
       "62           Abra\n",
       "63        Kadabra\n",
       "64       Alakazam\n",
       "65         Machop\n",
       "66        Machoke\n",
       "67        Machamp\n",
       "68     Bellsprout\n",
       "69     Weepinbell\n",
       "70     Victreebel\n",
       "71      Tentacool\n",
       "72     Tentacruel\n",
       "73        Geodude\n",
       "74       Graveler\n",
       "75          Golem\n",
       "76         Ponyta\n",
       "77       Rapidash\n",
       "78       Slowpoke\n",
       "79        Slowbro\n",
       "80      Magnemite\n",
       "81       Magneton\n",
       "82     Farfetch'd\n",
       "83          Doduo\n",
       "84         Dodrio\n",
       "85           Seel\n",
       "86        Dewgong\n",
       "87         Grimer\n",
       "88            Muk\n",
       "89       Shellder\n",
       "90       Cloyster\n",
       "91         Gastly\n",
       "92        Haunter\n",
       "93         Gengar\n",
       "94           Onix\n",
       "95        Drowzee\n",
       "96          Hypno\n",
       "97         Krabby\n",
       "98        Kingler\n",
       "99        Voltorb\n",
       "100     Electrode\n",
       "Name: Pokemon, dtype: object"
      ]
     },
     "execution_count": 7,
     "metadata": {},
     "output_type": "execute_result"
    }
   ],
   "source": [
    "\n",
    "pokemon[50:101]"
   ]
  },
  {
   "cell_type": "code",
   "execution_count": 8,
   "id": "3a4b7b9f",
   "metadata": {},
   "outputs": [
    {
     "data": {
      "text/plain": [
       "691     Clauncher\n",
       "692     Clawitzer\n",
       "693    Helioptile\n",
       "694     Heliolisk\n",
       "695        Tyrunt\n",
       "696     Tyrantrum\n",
       "697        Amaura\n",
       "698       Aurorus\n",
       "699       Sylveon\n",
       "700      Hawlucha\n",
       "701       Dedenne\n",
       "702       Carbink\n",
       "703         Goomy\n",
       "704       Sliggoo\n",
       "705        Goodra\n",
       "706        Klefki\n",
       "707      Phantump\n",
       "708     Trevenant\n",
       "709     Pumpkaboo\n",
       "710     Gourgeist\n",
       "Name: Pokemon, dtype: object"
      ]
     },
     "execution_count": 8,
     "metadata": {},
     "output_type": "execute_result"
    }
   ],
   "source": [
    "# Slicing last 20 values by index\n",
    "pokemon[-30:-10]"
   ]
  }
 ],
 "metadata": {
  "kernelspec": {
   "display_name": "Python 3 (ipykernel)",
   "language": "python",
   "name": "python3"
  },
  "language_info": {
   "codemirror_mode": {
    "name": "ipython",
    "version": 3
   },
   "file_extension": ".py",
   "mimetype": "text/x-python",
   "name": "python",
   "nbconvert_exporter": "python",
   "pygments_lexer": "ipython3",
   "version": "3.8.6"
  }
 },
 "nbformat": 4,
 "nbformat_minor": 5
}
