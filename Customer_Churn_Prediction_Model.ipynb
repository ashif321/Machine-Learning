{
  "nbformat": 4,
  "nbformat_minor": 0,
  "metadata": {
    "colab": {
      "provenance": [],
      "authorship_tag": "ABX9TyNwhDSuo7cNiS2sh7x0T59F",
      "include_colab_link": true
    },
    "kernelspec": {
      "name": "python3",
      "display_name": "Python 3"
    },
    "language_info": {
      "name": "python"
    }
  },
  "cells": [
    {
      "cell_type": "markdown",
      "metadata": {
        "id": "view-in-github",
        "colab_type": "text"
      },
      "source": [
        "<a href=\"https://colab.research.google.com/github/ashif321/Machine-Learning/blob/main/Customer_Churn_Prediction_Model.ipynb\" target=\"_parent\"><img src=\"https://colab.research.google.com/assets/colab-badge.svg\" alt=\"Open In Colab\"/></a>"
      ]
    },
    {
      "cell_type": "code",
      "execution_count": 1,
      "metadata": {
        "id": "oKVtUQz43pH2"
      },
      "outputs": [],
      "source": [
        "import numpy as np\n",
        "import pandas as pd\n",
        "import matplotlib.pyplot as plt\n",
        "import seaborn as sns\n",
        "from sklearn.model_selection import train_test_split\n",
        "from sklearn.preprocessing import StandardScaler, LabelEncoder\n",
        "from sklearn.metrics import accuracy_score, classification_report, confusion_matrix\n",
        "import tensorflow as tf\n",
        "from tensorflow import keras\n",
        "from tensorflow.keras import layers"
      ]
    },
    {
      "cell_type": "code",
      "source": [
        "# Load Dataset\n",
        "data = pd.read_csv('/content/churn/customer_churn_large_dataset.csv')"
      ],
      "metadata": {
        "id": "LENM0rWV-lql"
      },
      "execution_count": 89,
      "outputs": []
    },
    {
      "cell_type": "code",
      "source": [
        "data.head()"
      ],
      "metadata": {
        "colab": {
          "base_uri": "https://localhost:8080/",
          "height": 261
        },
        "id": "RTmoj4nT-4It",
        "outputId": "ee9aa3e4-5d4c-41ef-dcd5-aafe2134f6e9"
      },
      "execution_count": 18,
      "outputs": [
        {
          "output_type": "execute_result",
          "data": {
            "text/plain": [
              "   CustomerID        Name   Age  Gender     Location  \\\n",
              "0           1  Customer_1  63.0    Male  Los Angeles   \n",
              "1           2  Customer_2  62.0  Female     New York   \n",
              "2           3  Customer_3  24.0  Female  Los Angeles   \n",
              "3           4  Customer_4  36.0  Female        Miami   \n",
              "4           5  Customer_5  46.0  Female        Miami   \n",
              "\n",
              "   Subscription_Length_Months  Monthly_Bill  Total_Usage_GB  Churn  \n",
              "0                        17.0         73.36           236.0    0.0  \n",
              "1                         1.0         48.76           172.0    0.0  \n",
              "2                         5.0         85.47           460.0    0.0  \n",
              "3                         3.0         97.94           297.0    1.0  \n",
              "4                        19.0         58.14           266.0    0.0  "
            ],
            "text/html": [
              "\n",
              "  <div id=\"df-82558189-44e3-45d9-80b2-ae2be4bbbbf6\" class=\"colab-df-container\">\n",
              "    <div>\n",
              "<style scoped>\n",
              "    .dataframe tbody tr th:only-of-type {\n",
              "        vertical-align: middle;\n",
              "    }\n",
              "\n",
              "    .dataframe tbody tr th {\n",
              "        vertical-align: top;\n",
              "    }\n",
              "\n",
              "    .dataframe thead th {\n",
              "        text-align: right;\n",
              "    }\n",
              "</style>\n",
              "<table border=\"1\" class=\"dataframe\">\n",
              "  <thead>\n",
              "    <tr style=\"text-align: right;\">\n",
              "      <th></th>\n",
              "      <th>CustomerID</th>\n",
              "      <th>Name</th>\n",
              "      <th>Age</th>\n",
              "      <th>Gender</th>\n",
              "      <th>Location</th>\n",
              "      <th>Subscription_Length_Months</th>\n",
              "      <th>Monthly_Bill</th>\n",
              "      <th>Total_Usage_GB</th>\n",
              "      <th>Churn</th>\n",
              "    </tr>\n",
              "  </thead>\n",
              "  <tbody>\n",
              "    <tr>\n",
              "      <th>0</th>\n",
              "      <td>1</td>\n",
              "      <td>Customer_1</td>\n",
              "      <td>63.0</td>\n",
              "      <td>Male</td>\n",
              "      <td>Los Angeles</td>\n",
              "      <td>17.0</td>\n",
              "      <td>73.36</td>\n",
              "      <td>236.0</td>\n",
              "      <td>0.0</td>\n",
              "    </tr>\n",
              "    <tr>\n",
              "      <th>1</th>\n",
              "      <td>2</td>\n",
              "      <td>Customer_2</td>\n",
              "      <td>62.0</td>\n",
              "      <td>Female</td>\n",
              "      <td>New York</td>\n",
              "      <td>1.0</td>\n",
              "      <td>48.76</td>\n",
              "      <td>172.0</td>\n",
              "      <td>0.0</td>\n",
              "    </tr>\n",
              "    <tr>\n",
              "      <th>2</th>\n",
              "      <td>3</td>\n",
              "      <td>Customer_3</td>\n",
              "      <td>24.0</td>\n",
              "      <td>Female</td>\n",
              "      <td>Los Angeles</td>\n",
              "      <td>5.0</td>\n",
              "      <td>85.47</td>\n",
              "      <td>460.0</td>\n",
              "      <td>0.0</td>\n",
              "    </tr>\n",
              "    <tr>\n",
              "      <th>3</th>\n",
              "      <td>4</td>\n",
              "      <td>Customer_4</td>\n",
              "      <td>36.0</td>\n",
              "      <td>Female</td>\n",
              "      <td>Miami</td>\n",
              "      <td>3.0</td>\n",
              "      <td>97.94</td>\n",
              "      <td>297.0</td>\n",
              "      <td>1.0</td>\n",
              "    </tr>\n",
              "    <tr>\n",
              "      <th>4</th>\n",
              "      <td>5</td>\n",
              "      <td>Customer_5</td>\n",
              "      <td>46.0</td>\n",
              "      <td>Female</td>\n",
              "      <td>Miami</td>\n",
              "      <td>19.0</td>\n",
              "      <td>58.14</td>\n",
              "      <td>266.0</td>\n",
              "      <td>0.0</td>\n",
              "    </tr>\n",
              "  </tbody>\n",
              "</table>\n",
              "</div>\n",
              "    <div class=\"colab-df-buttons\">\n",
              "\n",
              "  <div class=\"colab-df-container\">\n",
              "    <button class=\"colab-df-convert\" onclick=\"convertToInteractive('df-82558189-44e3-45d9-80b2-ae2be4bbbbf6')\"\n",
              "            title=\"Convert this dataframe to an interactive table.\"\n",
              "            style=\"display:none;\">\n",
              "\n",
              "  <svg xmlns=\"http://www.w3.org/2000/svg\" height=\"24px\" viewBox=\"0 -960 960 960\">\n",
              "    <path d=\"M120-120v-720h720v720H120Zm60-500h600v-160H180v160Zm220 220h160v-160H400v160Zm0 220h160v-160H400v160ZM180-400h160v-160H180v160Zm440 0h160v-160H620v160ZM180-180h160v-160H180v160Zm440 0h160v-160H620v160Z\"/>\n",
              "  </svg>\n",
              "    </button>\n",
              "\n",
              "  <style>\n",
              "    .colab-df-container {\n",
              "      display:flex;\n",
              "      gap: 12px;\n",
              "    }\n",
              "\n",
              "    .colab-df-convert {\n",
              "      background-color: #E8F0FE;\n",
              "      border: none;\n",
              "      border-radius: 50%;\n",
              "      cursor: pointer;\n",
              "      display: none;\n",
              "      fill: #1967D2;\n",
              "      height: 32px;\n",
              "      padding: 0 0 0 0;\n",
              "      width: 32px;\n",
              "    }\n",
              "\n",
              "    .colab-df-convert:hover {\n",
              "      background-color: #E2EBFA;\n",
              "      box-shadow: 0px 1px 2px rgba(60, 64, 67, 0.3), 0px 1px 3px 1px rgba(60, 64, 67, 0.15);\n",
              "      fill: #174EA6;\n",
              "    }\n",
              "\n",
              "    .colab-df-buttons div {\n",
              "      margin-bottom: 4px;\n",
              "    }\n",
              "\n",
              "    [theme=dark] .colab-df-convert {\n",
              "      background-color: #3B4455;\n",
              "      fill: #D2E3FC;\n",
              "    }\n",
              "\n",
              "    [theme=dark] .colab-df-convert:hover {\n",
              "      background-color: #434B5C;\n",
              "      box-shadow: 0px 1px 3px 1px rgba(0, 0, 0, 0.15);\n",
              "      filter: drop-shadow(0px 1px 2px rgba(0, 0, 0, 0.3));\n",
              "      fill: #FFFFFF;\n",
              "    }\n",
              "  </style>\n",
              "\n",
              "    <script>\n",
              "      const buttonEl =\n",
              "        document.querySelector('#df-82558189-44e3-45d9-80b2-ae2be4bbbbf6 button.colab-df-convert');\n",
              "      buttonEl.style.display =\n",
              "        google.colab.kernel.accessAllowed ? 'block' : 'none';\n",
              "\n",
              "      async function convertToInteractive(key) {\n",
              "        const element = document.querySelector('#df-82558189-44e3-45d9-80b2-ae2be4bbbbf6');\n",
              "        const dataTable =\n",
              "          await google.colab.kernel.invokeFunction('convertToInteractive',\n",
              "                                                    [key], {});\n",
              "        if (!dataTable) return;\n",
              "\n",
              "        const docLinkHtml = 'Like what you see? Visit the ' +\n",
              "          '<a target=\"_blank\" href=https://colab.research.google.com/notebooks/data_table.ipynb>data table notebook</a>'\n",
              "          + ' to learn more about interactive tables.';\n",
              "        element.innerHTML = '';\n",
              "        dataTable['output_type'] = 'display_data';\n",
              "        await google.colab.output.renderOutput(dataTable, element);\n",
              "        const docLink = document.createElement('div');\n",
              "        docLink.innerHTML = docLinkHtml;\n",
              "        element.appendChild(docLink);\n",
              "      }\n",
              "    </script>\n",
              "  </div>\n",
              "\n",
              "\n",
              "<div id=\"df-50094f41-2122-4306-80af-22142c0015f7\">\n",
              "  <button class=\"colab-df-quickchart\" onclick=\"quickchart('df-50094f41-2122-4306-80af-22142c0015f7')\"\n",
              "            title=\"Suggest charts.\"\n",
              "            style=\"display:none;\">\n",
              "\n",
              "<svg xmlns=\"http://www.w3.org/2000/svg\" height=\"24px\"viewBox=\"0 0 24 24\"\n",
              "     width=\"24px\">\n",
              "    <g>\n",
              "        <path d=\"M19 3H5c-1.1 0-2 .9-2 2v14c0 1.1.9 2 2 2h14c1.1 0 2-.9 2-2V5c0-1.1-.9-2-2-2zM9 17H7v-7h2v7zm4 0h-2V7h2v10zm4 0h-2v-4h2v4z\"/>\n",
              "    </g>\n",
              "</svg>\n",
              "  </button>\n",
              "\n",
              "<style>\n",
              "  .colab-df-quickchart {\n",
              "      --bg-color: #E8F0FE;\n",
              "      --fill-color: #1967D2;\n",
              "      --hover-bg-color: #E2EBFA;\n",
              "      --hover-fill-color: #174EA6;\n",
              "      --disabled-fill-color: #AAA;\n",
              "      --disabled-bg-color: #DDD;\n",
              "  }\n",
              "\n",
              "  [theme=dark] .colab-df-quickchart {\n",
              "      --bg-color: #3B4455;\n",
              "      --fill-color: #D2E3FC;\n",
              "      --hover-bg-color: #434B5C;\n",
              "      --hover-fill-color: #FFFFFF;\n",
              "      --disabled-bg-color: #3B4455;\n",
              "      --disabled-fill-color: #666;\n",
              "  }\n",
              "\n",
              "  .colab-df-quickchart {\n",
              "    background-color: var(--bg-color);\n",
              "    border: none;\n",
              "    border-radius: 50%;\n",
              "    cursor: pointer;\n",
              "    display: none;\n",
              "    fill: var(--fill-color);\n",
              "    height: 32px;\n",
              "    padding: 0;\n",
              "    width: 32px;\n",
              "  }\n",
              "\n",
              "  .colab-df-quickchart:hover {\n",
              "    background-color: var(--hover-bg-color);\n",
              "    box-shadow: 0 1px 2px rgba(60, 64, 67, 0.3), 0 1px 3px 1px rgba(60, 64, 67, 0.15);\n",
              "    fill: var(--button-hover-fill-color);\n",
              "  }\n",
              "\n",
              "  .colab-df-quickchart-complete:disabled,\n",
              "  .colab-df-quickchart-complete:disabled:hover {\n",
              "    background-color: var(--disabled-bg-color);\n",
              "    fill: var(--disabled-fill-color);\n",
              "    box-shadow: none;\n",
              "  }\n",
              "\n",
              "  .colab-df-spinner {\n",
              "    border: 2px solid var(--fill-color);\n",
              "    border-color: transparent;\n",
              "    border-bottom-color: var(--fill-color);\n",
              "    animation:\n",
              "      spin 1s steps(1) infinite;\n",
              "  }\n",
              "\n",
              "  @keyframes spin {\n",
              "    0% {\n",
              "      border-color: transparent;\n",
              "      border-bottom-color: var(--fill-color);\n",
              "      border-left-color: var(--fill-color);\n",
              "    }\n",
              "    20% {\n",
              "      border-color: transparent;\n",
              "      border-left-color: var(--fill-color);\n",
              "      border-top-color: var(--fill-color);\n",
              "    }\n",
              "    30% {\n",
              "      border-color: transparent;\n",
              "      border-left-color: var(--fill-color);\n",
              "      border-top-color: var(--fill-color);\n",
              "      border-right-color: var(--fill-color);\n",
              "    }\n",
              "    40% {\n",
              "      border-color: transparent;\n",
              "      border-right-color: var(--fill-color);\n",
              "      border-top-color: var(--fill-color);\n",
              "    }\n",
              "    60% {\n",
              "      border-color: transparent;\n",
              "      border-right-color: var(--fill-color);\n",
              "    }\n",
              "    80% {\n",
              "      border-color: transparent;\n",
              "      border-right-color: var(--fill-color);\n",
              "      border-bottom-color: var(--fill-color);\n",
              "    }\n",
              "    90% {\n",
              "      border-color: transparent;\n",
              "      border-bottom-color: var(--fill-color);\n",
              "    }\n",
              "  }\n",
              "</style>\n",
              "\n",
              "  <script>\n",
              "    async function quickchart(key) {\n",
              "      const quickchartButtonEl =\n",
              "        document.querySelector('#' + key + ' button');\n",
              "      quickchartButtonEl.disabled = true;  // To prevent multiple clicks.\n",
              "      quickchartButtonEl.classList.add('colab-df-spinner');\n",
              "      try {\n",
              "        const charts = await google.colab.kernel.invokeFunction(\n",
              "            'suggestCharts', [key], {});\n",
              "      } catch (error) {\n",
              "        console.error('Error during call to suggestCharts:', error);\n",
              "      }\n",
              "      quickchartButtonEl.classList.remove('colab-df-spinner');\n",
              "      quickchartButtonEl.classList.add('colab-df-quickchart-complete');\n",
              "    }\n",
              "    (() => {\n",
              "      let quickchartButtonEl =\n",
              "        document.querySelector('#df-50094f41-2122-4306-80af-22142c0015f7 button');\n",
              "      quickchartButtonEl.style.display =\n",
              "        google.colab.kernel.accessAllowed ? 'block' : 'none';\n",
              "    })();\n",
              "  </script>\n",
              "</div>\n",
              "    </div>\n",
              "  </div>\n"
            ]
          },
          "metadata": {},
          "execution_count": 18
        }
      ]
    },
    {
      "cell_type": "code",
      "source": [
        "# Check the various attributes of data like shape(rows and columns), columns, datatypes"
      ],
      "metadata": {
        "id": "vcYVD9qmAzEZ"
      },
      "execution_count": null,
      "outputs": []
    },
    {
      "cell_type": "code",
      "source": [
        "data.shape"
      ],
      "metadata": {
        "colab": {
          "base_uri": "https://localhost:8080/"
        },
        "id": "OHtfBmChDOAQ",
        "outputId": "bc45183e-69c3-415d-c35c-7999fc326d7d"
      },
      "execution_count": 19,
      "outputs": [
        {
          "output_type": "execute_result",
          "data": {
            "text/plain": [
              "(58669, 9)"
            ]
          },
          "metadata": {},
          "execution_count": 19
        }
      ]
    },
    {
      "cell_type": "code",
      "source": [
        "data.columns.values"
      ],
      "metadata": {
        "colab": {
          "base_uri": "https://localhost:8080/"
        },
        "id": "XpGiYi3aDQoC",
        "outputId": "217ea781-6ca5-4a11-f982-19e1b6ac75bd"
      },
      "execution_count": 20,
      "outputs": [
        {
          "output_type": "execute_result",
          "data": {
            "text/plain": [
              "array(['CustomerID', 'Name', 'Age', 'Gender', 'Location',\n",
              "       'Subscription_Length_Months', 'Monthly_Bill', 'Total_Usage_GB',\n",
              "       'Churn'], dtype=object)"
            ]
          },
          "metadata": {},
          "execution_count": 20
        }
      ]
    },
    {
      "cell_type": "code",
      "source": [
        "# Checking the datatypes of all the columns\n",
        "data.dtypes"
      ],
      "metadata": {
        "colab": {
          "base_uri": "https://localhost:8080/"
        },
        "id": "TFC7BY-CDYdW",
        "outputId": "43f789e4-92e5-4331-e7ec-e7e51e97c135"
      },
      "execution_count": 21,
      "outputs": [
        {
          "output_type": "execute_result",
          "data": {
            "text/plain": [
              "CustomerID                      int64\n",
              "Name                           object\n",
              "Age                           float64\n",
              "Gender                         object\n",
              "Location                       object\n",
              "Subscription_Length_Months    float64\n",
              "Monthly_Bill                  float64\n",
              "Total_Usage_GB                float64\n",
              "Churn                         float64\n",
              "dtype: object"
            ]
          },
          "metadata": {},
          "execution_count": 21
        }
      ]
    },
    {
      "cell_type": "code",
      "source": [
        "# Check the descriptive  statistics of numeric variables\n",
        "data.describe()"
      ],
      "metadata": {
        "colab": {
          "base_uri": "https://localhost:8080/",
          "height": 300
        },
        "id": "2AUSezuXDxhb",
        "outputId": "726a13ff-b763-456f-e178-f2346dfe5886"
      },
      "execution_count": 22,
      "outputs": [
        {
          "output_type": "execute_result",
          "data": {
            "text/plain": [
              "         CustomerID           Age  Subscription_Length_Months  Monthly_Bill  \\\n",
              "count  58669.000000  58668.000000                58668.000000  58668.000000   \n",
              "mean   29335.000000     44.054357                   12.463541     64.997708   \n",
              "std    16936.425808     15.257855                    6.931887     20.261932   \n",
              "min        1.000000     18.000000                    1.000000     30.000000   \n",
              "25%    14668.000000     31.000000                    6.000000     47.450000   \n",
              "50%    29335.000000     44.000000                   12.000000     64.950000   \n",
              "75%    44002.000000     57.000000                   18.000000     82.670000   \n",
              "max    58669.000000     70.000000                   24.000000    100.000000   \n",
              "\n",
              "       Total_Usage_GB         Churn  \n",
              "count    58668.000000  58668.000000  \n",
              "mean       274.608338      0.498602  \n",
              "std        130.451460      0.500002  \n",
              "min         50.000000      0.000000  \n",
              "25%        161.000000      0.000000  \n",
              "50%        275.000000      0.000000  \n",
              "75%        387.000000      1.000000  \n",
              "max        500.000000      1.000000  "
            ],
            "text/html": [
              "\n",
              "  <div id=\"df-abcdeeea-0b30-4286-a80f-ad1f1e7f7106\" class=\"colab-df-container\">\n",
              "    <div>\n",
              "<style scoped>\n",
              "    .dataframe tbody tr th:only-of-type {\n",
              "        vertical-align: middle;\n",
              "    }\n",
              "\n",
              "    .dataframe tbody tr th {\n",
              "        vertical-align: top;\n",
              "    }\n",
              "\n",
              "    .dataframe thead th {\n",
              "        text-align: right;\n",
              "    }\n",
              "</style>\n",
              "<table border=\"1\" class=\"dataframe\">\n",
              "  <thead>\n",
              "    <tr style=\"text-align: right;\">\n",
              "      <th></th>\n",
              "      <th>CustomerID</th>\n",
              "      <th>Age</th>\n",
              "      <th>Subscription_Length_Months</th>\n",
              "      <th>Monthly_Bill</th>\n",
              "      <th>Total_Usage_GB</th>\n",
              "      <th>Churn</th>\n",
              "    </tr>\n",
              "  </thead>\n",
              "  <tbody>\n",
              "    <tr>\n",
              "      <th>count</th>\n",
              "      <td>58669.000000</td>\n",
              "      <td>58668.000000</td>\n",
              "      <td>58668.000000</td>\n",
              "      <td>58668.000000</td>\n",
              "      <td>58668.000000</td>\n",
              "      <td>58668.000000</td>\n",
              "    </tr>\n",
              "    <tr>\n",
              "      <th>mean</th>\n",
              "      <td>29335.000000</td>\n",
              "      <td>44.054357</td>\n",
              "      <td>12.463541</td>\n",
              "      <td>64.997708</td>\n",
              "      <td>274.608338</td>\n",
              "      <td>0.498602</td>\n",
              "    </tr>\n",
              "    <tr>\n",
              "      <th>std</th>\n",
              "      <td>16936.425808</td>\n",
              "      <td>15.257855</td>\n",
              "      <td>6.931887</td>\n",
              "      <td>20.261932</td>\n",
              "      <td>130.451460</td>\n",
              "      <td>0.500002</td>\n",
              "    </tr>\n",
              "    <tr>\n",
              "      <th>min</th>\n",
              "      <td>1.000000</td>\n",
              "      <td>18.000000</td>\n",
              "      <td>1.000000</td>\n",
              "      <td>30.000000</td>\n",
              "      <td>50.000000</td>\n",
              "      <td>0.000000</td>\n",
              "    </tr>\n",
              "    <tr>\n",
              "      <th>25%</th>\n",
              "      <td>14668.000000</td>\n",
              "      <td>31.000000</td>\n",
              "      <td>6.000000</td>\n",
              "      <td>47.450000</td>\n",
              "      <td>161.000000</td>\n",
              "      <td>0.000000</td>\n",
              "    </tr>\n",
              "    <tr>\n",
              "      <th>50%</th>\n",
              "      <td>29335.000000</td>\n",
              "      <td>44.000000</td>\n",
              "      <td>12.000000</td>\n",
              "      <td>64.950000</td>\n",
              "      <td>275.000000</td>\n",
              "      <td>0.000000</td>\n",
              "    </tr>\n",
              "    <tr>\n",
              "      <th>75%</th>\n",
              "      <td>44002.000000</td>\n",
              "      <td>57.000000</td>\n",
              "      <td>18.000000</td>\n",
              "      <td>82.670000</td>\n",
              "      <td>387.000000</td>\n",
              "      <td>1.000000</td>\n",
              "    </tr>\n",
              "    <tr>\n",
              "      <th>max</th>\n",
              "      <td>58669.000000</td>\n",
              "      <td>70.000000</td>\n",
              "      <td>24.000000</td>\n",
              "      <td>100.000000</td>\n",
              "      <td>500.000000</td>\n",
              "      <td>1.000000</td>\n",
              "    </tr>\n",
              "  </tbody>\n",
              "</table>\n",
              "</div>\n",
              "    <div class=\"colab-df-buttons\">\n",
              "\n",
              "  <div class=\"colab-df-container\">\n",
              "    <button class=\"colab-df-convert\" onclick=\"convertToInteractive('df-abcdeeea-0b30-4286-a80f-ad1f1e7f7106')\"\n",
              "            title=\"Convert this dataframe to an interactive table.\"\n",
              "            style=\"display:none;\">\n",
              "\n",
              "  <svg xmlns=\"http://www.w3.org/2000/svg\" height=\"24px\" viewBox=\"0 -960 960 960\">\n",
              "    <path d=\"M120-120v-720h720v720H120Zm60-500h600v-160H180v160Zm220 220h160v-160H400v160Zm0 220h160v-160H400v160ZM180-400h160v-160H180v160Zm440 0h160v-160H620v160ZM180-180h160v-160H180v160Zm440 0h160v-160H620v160Z\"/>\n",
              "  </svg>\n",
              "    </button>\n",
              "\n",
              "  <style>\n",
              "    .colab-df-container {\n",
              "      display:flex;\n",
              "      gap: 12px;\n",
              "    }\n",
              "\n",
              "    .colab-df-convert {\n",
              "      background-color: #E8F0FE;\n",
              "      border: none;\n",
              "      border-radius: 50%;\n",
              "      cursor: pointer;\n",
              "      display: none;\n",
              "      fill: #1967D2;\n",
              "      height: 32px;\n",
              "      padding: 0 0 0 0;\n",
              "      width: 32px;\n",
              "    }\n",
              "\n",
              "    .colab-df-convert:hover {\n",
              "      background-color: #E2EBFA;\n",
              "      box-shadow: 0px 1px 2px rgba(60, 64, 67, 0.3), 0px 1px 3px 1px rgba(60, 64, 67, 0.15);\n",
              "      fill: #174EA6;\n",
              "    }\n",
              "\n",
              "    .colab-df-buttons div {\n",
              "      margin-bottom: 4px;\n",
              "    }\n",
              "\n",
              "    [theme=dark] .colab-df-convert {\n",
              "      background-color: #3B4455;\n",
              "      fill: #D2E3FC;\n",
              "    }\n",
              "\n",
              "    [theme=dark] .colab-df-convert:hover {\n",
              "      background-color: #434B5C;\n",
              "      box-shadow: 0px 1px 3px 1px rgba(0, 0, 0, 0.15);\n",
              "      filter: drop-shadow(0px 1px 2px rgba(0, 0, 0, 0.3));\n",
              "      fill: #FFFFFF;\n",
              "    }\n",
              "  </style>\n",
              "\n",
              "    <script>\n",
              "      const buttonEl =\n",
              "        document.querySelector('#df-abcdeeea-0b30-4286-a80f-ad1f1e7f7106 button.colab-df-convert');\n",
              "      buttonEl.style.display =\n",
              "        google.colab.kernel.accessAllowed ? 'block' : 'none';\n",
              "\n",
              "      async function convertToInteractive(key) {\n",
              "        const element = document.querySelector('#df-abcdeeea-0b30-4286-a80f-ad1f1e7f7106');\n",
              "        const dataTable =\n",
              "          await google.colab.kernel.invokeFunction('convertToInteractive',\n",
              "                                                    [key], {});\n",
              "        if (!dataTable) return;\n",
              "\n",
              "        const docLinkHtml = 'Like what you see? Visit the ' +\n",
              "          '<a target=\"_blank\" href=https://colab.research.google.com/notebooks/data_table.ipynb>data table notebook</a>'\n",
              "          + ' to learn more about interactive tables.';\n",
              "        element.innerHTML = '';\n",
              "        dataTable['output_type'] = 'display_data';\n",
              "        await google.colab.output.renderOutput(dataTable, element);\n",
              "        const docLink = document.createElement('div');\n",
              "        docLink.innerHTML = docLinkHtml;\n",
              "        element.appendChild(docLink);\n",
              "      }\n",
              "    </script>\n",
              "  </div>\n",
              "\n",
              "\n",
              "<div id=\"df-381ba0b2-37e8-4609-b4f5-2b31542245d5\">\n",
              "  <button class=\"colab-df-quickchart\" onclick=\"quickchart('df-381ba0b2-37e8-4609-b4f5-2b31542245d5')\"\n",
              "            title=\"Suggest charts.\"\n",
              "            style=\"display:none;\">\n",
              "\n",
              "<svg xmlns=\"http://www.w3.org/2000/svg\" height=\"24px\"viewBox=\"0 0 24 24\"\n",
              "     width=\"24px\">\n",
              "    <g>\n",
              "        <path d=\"M19 3H5c-1.1 0-2 .9-2 2v14c0 1.1.9 2 2 2h14c1.1 0 2-.9 2-2V5c0-1.1-.9-2-2-2zM9 17H7v-7h2v7zm4 0h-2V7h2v10zm4 0h-2v-4h2v4z\"/>\n",
              "    </g>\n",
              "</svg>\n",
              "  </button>\n",
              "\n",
              "<style>\n",
              "  .colab-df-quickchart {\n",
              "      --bg-color: #E8F0FE;\n",
              "      --fill-color: #1967D2;\n",
              "      --hover-bg-color: #E2EBFA;\n",
              "      --hover-fill-color: #174EA6;\n",
              "      --disabled-fill-color: #AAA;\n",
              "      --disabled-bg-color: #DDD;\n",
              "  }\n",
              "\n",
              "  [theme=dark] .colab-df-quickchart {\n",
              "      --bg-color: #3B4455;\n",
              "      --fill-color: #D2E3FC;\n",
              "      --hover-bg-color: #434B5C;\n",
              "      --hover-fill-color: #FFFFFF;\n",
              "      --disabled-bg-color: #3B4455;\n",
              "      --disabled-fill-color: #666;\n",
              "  }\n",
              "\n",
              "  .colab-df-quickchart {\n",
              "    background-color: var(--bg-color);\n",
              "    border: none;\n",
              "    border-radius: 50%;\n",
              "    cursor: pointer;\n",
              "    display: none;\n",
              "    fill: var(--fill-color);\n",
              "    height: 32px;\n",
              "    padding: 0;\n",
              "    width: 32px;\n",
              "  }\n",
              "\n",
              "  .colab-df-quickchart:hover {\n",
              "    background-color: var(--hover-bg-color);\n",
              "    box-shadow: 0 1px 2px rgba(60, 64, 67, 0.3), 0 1px 3px 1px rgba(60, 64, 67, 0.15);\n",
              "    fill: var(--button-hover-fill-color);\n",
              "  }\n",
              "\n",
              "  .colab-df-quickchart-complete:disabled,\n",
              "  .colab-df-quickchart-complete:disabled:hover {\n",
              "    background-color: var(--disabled-bg-color);\n",
              "    fill: var(--disabled-fill-color);\n",
              "    box-shadow: none;\n",
              "  }\n",
              "\n",
              "  .colab-df-spinner {\n",
              "    border: 2px solid var(--fill-color);\n",
              "    border-color: transparent;\n",
              "    border-bottom-color: var(--fill-color);\n",
              "    animation:\n",
              "      spin 1s steps(1) infinite;\n",
              "  }\n",
              "\n",
              "  @keyframes spin {\n",
              "    0% {\n",
              "      border-color: transparent;\n",
              "      border-bottom-color: var(--fill-color);\n",
              "      border-left-color: var(--fill-color);\n",
              "    }\n",
              "    20% {\n",
              "      border-color: transparent;\n",
              "      border-left-color: var(--fill-color);\n",
              "      border-top-color: var(--fill-color);\n",
              "    }\n",
              "    30% {\n",
              "      border-color: transparent;\n",
              "      border-left-color: var(--fill-color);\n",
              "      border-top-color: var(--fill-color);\n",
              "      border-right-color: var(--fill-color);\n",
              "    }\n",
              "    40% {\n",
              "      border-color: transparent;\n",
              "      border-right-color: var(--fill-color);\n",
              "      border-top-color: var(--fill-color);\n",
              "    }\n",
              "    60% {\n",
              "      border-color: transparent;\n",
              "      border-right-color: var(--fill-color);\n",
              "    }\n",
              "    80% {\n",
              "      border-color: transparent;\n",
              "      border-right-color: var(--fill-color);\n",
              "      border-bottom-color: var(--fill-color);\n",
              "    }\n",
              "    90% {\n",
              "      border-color: transparent;\n",
              "      border-bottom-color: var(--fill-color);\n",
              "    }\n",
              "  }\n",
              "</style>\n",
              "\n",
              "  <script>\n",
              "    async function quickchart(key) {\n",
              "      const quickchartButtonEl =\n",
              "        document.querySelector('#' + key + ' button');\n",
              "      quickchartButtonEl.disabled = true;  // To prevent multiple clicks.\n",
              "      quickchartButtonEl.classList.add('colab-df-spinner');\n",
              "      try {\n",
              "        const charts = await google.colab.kernel.invokeFunction(\n",
              "            'suggestCharts', [key], {});\n",
              "      } catch (error) {\n",
              "        console.error('Error during call to suggestCharts:', error);\n",
              "      }\n",
              "      quickchartButtonEl.classList.remove('colab-df-spinner');\n",
              "      quickchartButtonEl.classList.add('colab-df-quickchart-complete');\n",
              "    }\n",
              "    (() => {\n",
              "      let quickchartButtonEl =\n",
              "        document.querySelector('#df-381ba0b2-37e8-4609-b4f5-2b31542245d5 button');\n",
              "      quickchartButtonEl.style.display =\n",
              "        google.colab.kernel.accessAllowed ? 'block' : 'none';\n",
              "    })();\n",
              "  </script>\n",
              "</div>\n",
              "    </div>\n",
              "  </div>\n"
            ]
          },
          "metadata": {},
          "execution_count": 22
        }
      ]
    },
    {
      "cell_type": "code",
      "source": [
        "# plotting\n",
        "data['Churn'].value_counts().plot(kind='barh', figsize=(8,5))\n",
        "plt.xlabel('Count', labelpad=10)\n",
        "plt.ylabel('Target Variable', labelpad=10)\n",
        "plt.title('Count of Taget Variable per Category', y=1.02);"
      ],
      "metadata": {
        "colab": {
          "base_uri": "https://localhost:8080/",
          "height": 503
        },
        "id": "-J1SlsgnEKQ7",
        "outputId": "e3e345e9-cfe7-4cc2-ac24-2aa87b586509"
      },
      "execution_count": 88,
      "outputs": [
        {
          "output_type": "display_data",
          "data": {
            "text/plain": [
              "<Figure size 800x500 with 1 Axes>"
            ],
            "image/png": "[encoded data removed]"
          },
          "metadata": {}
        }
      ]
    },
    {
      "cell_type": "code",
      "source": [
        "100*data['Churn'].value_counts()/len(data['Churn'])\n"
      ],
      "metadata": {
        "colab": {
          "base_uri": "https://localhost:8080/"
        },
        "id": "n1wK0eOPE1mY",
        "outputId": "c3e335d4-533b-432e-bed5-57594f460b87"
      },
      "execution_count": 25,
      "outputs": [
        {
          "output_type": "execute_result",
          "data": {
            "text/plain": [
              "0.0    50.138915\n",
              "1.0    49.859381\n",
              "Name: Churn, dtype: float64"
            ]
          },
          "metadata": {},
          "execution_count": 25
        }
      ]
    },
    {
      "cell_type": "code",
      "source": [
        "# Concise summary of the dataframes, as we have too many columns, we are using the verbose = True mode\n",
        "data.info(verbose = True)"
      ],
      "metadata": {
        "colab": {
          "base_uri": "https://localhost:8080/"
        },
        "id": "ktJaDTeZGefj",
        "outputId": "2e02ab0b-fa21-4316-86a9-8234ea49da2b"
      },
      "execution_count": 26,
      "outputs": [
        {
          "output_type": "stream",
          "name": "stdout",
          "text": [
            "<class 'pandas.core.frame.DataFrame'>\n",
            "RangeIndex: 58669 entries, 0 to 58668\n",
            "Data columns (total 9 columns):\n",
            " #   Column                      Non-Null Count  Dtype  \n",
            "---  ------                      --------------  -----  \n",
            " 0   CustomerID                  58669 non-null  int64  \n",
            " 1   Name                        58669 non-null  object \n",
            " 2   Age                         58668 non-null  float64\n",
            " 3   Gender                      58668 non-null  object \n",
            " 4   Location                    58668 non-null  object \n",
            " 5   Subscription_Length_Months  58668 non-null  float64\n",
            " 6   Monthly_Bill                58668 non-null  float64\n",
            " 7   Total_Usage_GB              58668 non-null  float64\n",
            " 8   Churn                       58668 non-null  float64\n",
            "dtypes: float64(5), int64(1), object(3)\n",
            "memory usage: 4.0+ MB\n"
          ]
        }
      ]
    },
    {
      "cell_type": "markdown",
      "source": [
        "Data Cleaning"
      ],
      "metadata": {
        "id": "pmIQ9QglI0nC"
      }
    },
    {
      "cell_type": "code",
      "source": [
        "data.isnull().sum()"
      ],
      "metadata": {
        "id": "sEmpXuEbHZlC",
        "colab": {
          "base_uri": "https://localhost:8080/"
        },
        "outputId": "ad17182c-3d72-4680-f982-7e932bff9ac6"
      },
      "execution_count": 27,
      "outputs": [
        {
          "output_type": "execute_result",
          "data": {
            "text/plain": [
              "CustomerID                    0\n",
              "Name                          0\n",
              "Age                           1\n",
              "Gender                        1\n",
              "Location                      1\n",
              "Subscription_Length_Months    1\n",
              "Monthly_Bill                  1\n",
              "Total_Usage_GB                1\n",
              "Churn                         1\n",
              "dtype: int64"
            ]
          },
          "metadata": {},
          "execution_count": 27
        }
      ]
    },
    {
      "cell_type": "code",
      "source": [
        "# Handle missing data\n",
        "data = data.fillna(0)"
      ],
      "metadata": {
        "id": "8j8b7RbcJTgZ"
      },
      "execution_count": 43,
      "outputs": []
    },
    {
      "cell_type": "code",
      "source": [
        "data['Gender'].value_counts()"
      ],
      "metadata": {
        "id": "S-sclSiJMY0u",
        "colab": {
          "base_uri": "https://localhost:8080/"
        },
        "outputId": "76e9ddae-5bee-41e0-c1c3-bed14071fe9e"
      },
      "execution_count": 42,
      "outputs": [
        {
          "output_type": "execute_result",
          "data": {
            "text/plain": [
              "Female    29519\n",
              "Male      29149\n",
              "0             1\n",
              "Name: Gender, dtype: int64"
            ]
          },
          "metadata": {},
          "execution_count": 42
        }
      ]
    },
    {
      "cell_type": "code",
      "source": [],
      "metadata": {
        "id": "bf9MOwWds9O-"
      },
      "execution_count": 44,
      "outputs": []
    },
    {
      "cell_type": "code",
      "source": [
        "data.drop(columns= ['Name'], inplace=True)"
      ],
      "metadata": {
        "id": "TpEfPLl_s8jP"
      },
      "execution_count": 57,
      "outputs": []
    },
    {
      "cell_type": "code",
      "source": [
        "data = pd.get_dummies(data,columns = ['Gender','Location'], drop_first=True)"
      ],
      "metadata": {
        "id": "b0BXtzDPs8Hq"
      },
      "execution_count": 59,
      "outputs": []
    },
    {
      "cell_type": "code",
      "source": [
        "data.info()"
      ],
      "metadata": {
        "colab": {
          "base_uri": "https://localhost:8080/"
        },
        "id": "be5fG6Kl2ftX",
        "outputId": "7f5b0683-775c-44fe-99f1-c3e4d9b1c5cf"
      },
      "execution_count": 62,
      "outputs": [
        {
          "output_type": "stream",
          "name": "stdout",
          "text": [
            "<class 'pandas.core.frame.DataFrame'>\n",
            "RangeIndex: 58669 entries, 0 to 58668\n",
            "Data columns (total 13 columns):\n",
            " #   Column                      Non-Null Count  Dtype  \n",
            "---  ------                      --------------  -----  \n",
            " 0   CustomerID                  58669 non-null  int64  \n",
            " 1   Age                         58669 non-null  float64\n",
            " 2   Subscription_Length_Months  58669 non-null  float64\n",
            " 3   Monthly_Bill                58669 non-null  float64\n",
            " 4   Total_Usage_GB              58669 non-null  float64\n",
            " 5   Churn                       58669 non-null  float64\n",
            " 6   Gender_Female               58669 non-null  uint8  \n",
            " 7   Gender_Male                 58669 non-null  uint8  \n",
            " 8   Location_Chicago            58669 non-null  uint8  \n",
            " 9   Location_Houston            58669 non-null  uint8  \n",
            " 10  Location_Los Angeles        58669 non-null  uint8  \n",
            " 11  Location_Miami              58669 non-null  uint8  \n",
            " 12  Location_New York           58669 non-null  uint8  \n",
            "dtypes: float64(5), int64(1), uint8(7)\n",
            "memory usage: 3.1 MB\n"
          ]
        }
      ]
    },
    {
      "cell_type": "code",
      "source": [
        "# Split data  into training and testing sets\n",
        "X = data.drop(columns=['Churn'])\n",
        "y = data['Churn']\n",
        "X_train, X_test, y_train, y_test= train_test_split(X, y, test_size=0.2, random_state= 1)"
      ],
      "metadata": {
        "id": "nUmkLpb13gD5"
      },
      "execution_count": 64,
      "outputs": []
    },
    {
      "cell_type": "code",
      "source": [
        "# Normalize numerical features\n",
        "from sklearn.preprocessing import StandardScaler\n",
        "scaler = StandardScaler()\n",
        "X_train_scaled = scaler.fit_transform(X_train)\n",
        "X_test_scaled = scaler.transform(X_test)"
      ],
      "metadata": {
        "id": "ufAqKWQaNDRx"
      },
      "execution_count": 67,
      "outputs": []
    },
    {
      "cell_type": "code",
      "source": [
        "X_train_scaled"
      ],
      "metadata": {
        "id": "tcwB-_iJPWsj",
        "colab": {
          "base_uri": "https://localhost:8080/"
        },
        "outputId": "17801457-2a98-4da2-db0d-a7480c65465f"
      },
      "execution_count": 69,
      "outputs": [
        {
          "output_type": "execute_result",
          "data": {
            "text/plain": [
              "array([[ 0.10385314,  1.43889743, -0.06756381, ..., -0.4986014 ,\n",
              "        -0.49966707, -0.49996671],\n",
              "       [ 1.68035586, -0.33129432,  1.37594839, ...,  2.00561011,\n",
              "        -0.49966707, -0.49996671],\n",
              "       [ 1.43173347, -1.51142215, -0.6449687 , ..., -0.4986014 ,\n",
              "         2.0013326 , -0.49996671],\n",
              "       ...,\n",
              "       [-1.43346195,  0.2587696 ,  1.37594839, ..., -0.4986014 ,\n",
              "         2.0013326 , -0.49996671],\n",
              "       [-1.02027522, -1.1180462 ,  0.50984107, ...,  2.00561011,\n",
              "        -0.49966707, -0.49996671],\n",
              "       [ 0.21283262,  1.1766468 ,  1.23159717, ..., -0.4986014 ,\n",
              "        -0.49966707, -0.49996671]])"
            ]
          },
          "metadata": {},
          "execution_count": 69
        }
      ]
    },
    {
      "cell_type": "code",
      "source": [
        "# Create a Neural Network model using Tensorflow and keras\n",
        "model = keras.Sequential([\n",
        "    layers.Input(shape=(X_train.shape[1],)),\n",
        "    layers.Dense(64, activation='relu'),\n",
        "    layers.Dense(32, activation='relu'),\n",
        "    layers.Dense(1, activation='sigmoid')\n",
        "])"
      ],
      "metadata": {
        "id": "H1KJdp38Trep"
      },
      "execution_count": 70,
      "outputs": []
    },
    {
      "cell_type": "code",
      "source": [
        "model.summary()"
      ],
      "metadata": {
        "colab": {
          "base_uri": "https://localhost:8080/"
        },
        "id": "zfmTG9X_5FS7",
        "outputId": "1d724954-faba-43f2-8d52-fe367c4f3e02"
      },
      "execution_count": 71,
      "outputs": [
        {
          "output_type": "stream",
          "name": "stdout",
          "text": [
            "Model: \"sequential\"\n",
            "_________________________________________________________________\n",
            " Layer (type)                Output Shape              Param #   \n",
            "=================================================================\n",
            " dense (Dense)               (None, 64)                832       \n",
            "                                                                 \n",
            " dense_1 (Dense)             (None, 32)                2080      \n",
            "                                                                 \n",
            " dense_2 (Dense)             (None, 1)                 33        \n",
            "                                                                 \n",
            "=================================================================\n",
            "Total params: 2,945\n",
            "Trainable params: 2,945\n",
            "Non-trainable params: 0\n",
            "_________________________________________________________________\n"
          ]
        }
      ]
    },
    {
      "cell_type": "code",
      "source": [
        "# Compile the model\n",
        "\n",
        "model.compile(optimizer='Adam', loss='binary_crossentropy', metrics=['accuracy'])"
      ],
      "metadata": {
        "id": "VU4ItBbbVBPY"
      },
      "execution_count": 72,
      "outputs": []
    },
    {
      "cell_type": "code",
      "source": [
        "# Train the model\n",
        "history = model.fit(X_train, y_train, epochs=10, batch_size=32, validation_data=(X_test, y_test))"
      ],
      "metadata": {
        "id": "DQLYmhUAVHpQ",
        "colab": {
          "base_uri": "https://localhost:8080/"
        },
        "outputId": "c02343d5-d313-4930-9069-8dbdc95399f6"
      },
      "execution_count": 73,
      "outputs": [
        {
          "output_type": "stream",
          "name": "stdout",
          "text": [
            "Epoch 1/10\n",
            "1467/1467 [==============================] - 5s 2ms/step - loss: 36.8949 - accuracy: 0.5016 - val_loss: 8.4875 - val_accuracy: 0.5026\n",
            "Epoch 2/10\n",
            "1467/1467 [==============================] - 3s 2ms/step - loss: 22.6487 - accuracy: 0.5031 - val_loss: 68.4878 - val_accuracy: 0.4957\n",
            "Epoch 3/10\n",
            "1467/1467 [==============================] - 3s 2ms/step - loss: 18.1885 - accuracy: 0.5015 - val_loss: 13.2634 - val_accuracy: 0.4975\n",
            "Epoch 4/10\n",
            "1467/1467 [==============================] - 3s 2ms/step - loss: 17.2159 - accuracy: 0.4981 - val_loss: 22.0612 - val_accuracy: 0.4955\n",
            "Epoch 5/10\n",
            "1467/1467 [==============================] - 3s 2ms/step - loss: 12.5439 - accuracy: 0.5008 - val_loss: 22.3050 - val_accuracy: 0.5037\n",
            "Epoch 6/10\n",
            "1467/1467 [==============================] - 4s 3ms/step - loss: 11.9204 - accuracy: 0.4978 - val_loss: 2.6334 - val_accuracy: 0.4991\n",
            "Epoch 7/10\n",
            "1467/1467 [==============================] - 3s 2ms/step - loss: 10.8490 - accuracy: 0.5006 - val_loss: 14.9376 - val_accuracy: 0.4958\n",
            "Epoch 8/10\n",
            "1467/1467 [==============================] - 3s 2ms/step - loss: 9.1433 - accuracy: 0.4983 - val_loss: 5.7511 - val_accuracy: 0.5034\n",
            "Epoch 9/10\n",
            "1467/1467 [==============================] - 3s 2ms/step - loss: 8.3259 - accuracy: 0.5013 - val_loss: 0.7249 - val_accuracy: 0.4987\n",
            "Epoch 10/10\n",
            "1467/1467 [==============================] - 4s 3ms/step - loss: 8.1958 - accuracy: 0.4945 - val_loss: 24.0456 - val_accuracy: 0.4961\n"
          ]
        }
      ]
    },
    {
      "cell_type": "code",
      "source": [
        "model.layers[1].get_weights()"
      ],
      "metadata": {
        "colab": {
          "base_uri": "https://localhost:8080/"
        },
        "id": "zF6sk7EW5-Ub",
        "outputId": "4e2e064e-198f-457a-b32a-9b9654011c3f"
      },
      "execution_count": 75,
      "outputs": [
        {
          "output_type": "execute_result",
          "data": {
            "text/plain": [
              "[array([[ 0.01521693, -0.01185171, -0.02481654, ..., -0.24726942,\n",
              "         -0.12473494, -0.04705112],\n",
              "        [-0.01505161, -0.23561025, -0.03573342, ..., -0.08351433,\n",
              "          0.11635521,  0.00812637],\n",
              "        [ 0.06462079, -0.23597567,  0.13104384, ..., -0.06618731,\n",
              "          0.09391664, -0.01018515],\n",
              "        ...,\n",
              "        [-0.05034547,  0.07709   , -0.21952428, ..., -0.25225976,\n",
              "          0.03155304,  0.22041248],\n",
              "        [-0.15245727,  0.02949651,  0.05301785, ...,  0.1275368 ,\n",
              "         -0.07398187,  0.21305174],\n",
              "        [-0.07667539,  0.0644812 ,  0.19584595, ..., -0.28505278,\n",
              "         -0.00833273,  0.07032532]], dtype=float32),\n",
              " array([-0.04569796, -0.02729254,  0.05466168,  0.00840871,  0.02164589,\n",
              "        -0.03472432, -0.05822664, -0.05657669,  0.        , -0.02666429,\n",
              "         0.0379781 , -0.06435914, -0.02831726, -0.06770016, -0.04258284,\n",
              "         0.        , -0.06100784,  0.01772667,  0.0206021 ,  0.        ,\n",
              "        -0.01208989,  0.        ,  0.00220681, -0.07730506, -0.0570513 ,\n",
              "        -0.03858208,  0.01064841, -0.10796536,  0.        , -0.04402112,\n",
              "        -0.01123784, -0.0342006 ], dtype=float32)]"
            ]
          },
          "metadata": {},
          "execution_count": 75
        }
      ]
    },
    {
      "cell_type": "code",
      "source": [
        "# Prediction\n",
        "model.predict(X_test_scaled)"
      ],
      "metadata": {
        "colab": {
          "base_uri": "https://localhost:8080/"
        },
        "id": "rlnupSBp6iv7",
        "outputId": "47561d66-700c-4ccb-82b3-2a42b4ed0408"
      },
      "execution_count": 76,
      "outputs": [
        {
          "output_type": "stream",
          "name": "stdout",
          "text": [
            "367/367 [==============================] - 1s 2ms/step\n"
          ]
        },
        {
          "output_type": "execute_result",
          "data": {
            "text/plain": [
              "array([[0.4890777 ],\n",
              "       [0.5980512 ],\n",
              "       [0.51721567],\n",
              "       ...,\n",
              "       [0.55474406],\n",
              "       [0.5602856 ],\n",
              "       [0.5317671 ]], dtype=float32)"
            ]
          },
          "metadata": {},
          "execution_count": 76
        }
      ]
    },
    {
      "cell_type": "code",
      "source": [
        "# Evaluate the model\n",
        "y_pred = (model.predict(X_test) > 0.5).astype(\"int32\")\n",
        "accuracy = accuracy_score(y_test, y_pred)\n",
        "confusion = confusion_matrix(y_test, y_pred)\n",
        "report = classification_report(y_test, y_pred)\n",
        "\n",
        "print(f'Accuracy: {accuracy}')\n",
        "print(f'Confusion Matrix:\\n{confusion}')\n",
        "print(f'Classification Report:\\n{report}')"
      ],
      "metadata": {
        "id": "uNjFfjCxVLxc"
      },
      "execution_count": null,
      "outputs": []
    },
    {
      "cell_type": "code",
      "source": [
        "# Plot training history\n",
        "plt.figure(figsize=(8, 4))\n",
        "plt.plot(history.history['accuracy'], label='Training Accuracy')\n",
        "plt.plot(history.history['val_accuracy'], label='Validation Accuracy')\n",
        "plt.xlabel('Epochs')\n",
        "plt.ylabel('Accuracy')\n",
        "plt.legend()\n",
        "plt.show()"
      ],
      "metadata": {
        "colab": {
          "base_uri": "https://localhost:8080/",
          "height": 388
        },
        "id": "lperdvcIW8EJ",
        "outputId": "7cb72993-f450-4407-a08c-3a66cc50ba42"
      },
      "execution_count": 85,
      "outputs": [
        {
          "output_type": "display_data",
          "data": {
            "text/plain": [
              "<Figure size 800x400 with 1 Axes>"
            ],
            "image/png": "[encoded data removed]"
          },
          "metadata": {}
        }
      ]
    },
    {
      "cell_type": "code",
      "source": [
        "for i, predictor in enumerate(data.drop(columns= ['Churn', 'Total_Usage_GB', 'Monthly_Bill'])):\n",
        "    plt.figure(i)\n",
        "    sns.countplot(data = data, x=predictor, hue='Churn')\n"
      ],
      "metadata": {
        "id": "dbl33xu3Xrtk"
      },
      "execution_count": null,
      "outputs": []
    },
    {
      "cell_type": "code",
      "source": [],
      "metadata": {
        "id": "0VMJCznwACNK"
      },
      "execution_count": null,
      "outputs": []
    }
  ]
}